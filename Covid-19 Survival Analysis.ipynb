{
 "cells": [
  {
   "cell_type": "markdown",
   "metadata": {},
   "source": [
    "# Covid-19 Survival Analysis"
   ]
  },
  {
   "cell_type": "code",
   "execution_count": 1,
   "metadata": {},
   "outputs": [],
   "source": [
    "import numpy as np\n",
    "import pandas as pd\n",
    "from datetime import date\n",
    "import random\n",
    "import matplotlib.pyplot as plt\n",
    "%matplotlib inline\n",
    "import lifelines\n",
    "pd.options.mode.chained_assignment = None\n",
    "#matplotlib for plotting\n",
    "import matplotlib.pyplot as plt\n",
    "from matplotlib import gridspec\n",
    "import matplotlib.ticker as mtick"
   ]
  },
  {
   "cell_type": "code",
   "execution_count": 2,
   "metadata": {},
   "outputs": [],
   "source": [
    "covid = pd.read_csv('covid19_data_22022021.csv',\n",
    "        dtype=dict(sex='category',\n",
    "                   age='string',\n",
    "                   city='category',\n",
    "                    province='category',\n",
    "                    country='category',\n",
    "                    geo_resolution='category',\n",
    "                    date_onset_symptoms='category',\n",
    "                    date_admission_hospital='category',\n",
    "                    symptoms='string',\n",
    "                    additional_information='string',\n",
    "                    date_death_or_discharge='category',\n",
    "                    travel_history_dates='string',\n",
    "                    notes_for_discussion='string',\n",
    "                    latitude=float,\n",
    "                    longitude=float,\n",
    "                    lives_in_Wuhan='category',\n",
    "                    travel_history_location='category',\n",
    "                    reported_market_exposure='category',\n",
    "                    chronic_disease_binary='category',\n",
    "                    chronic_disease='category',\n",
    "                    source='category',\n",
    "                    sequence_available='category',\n",
    "                    outcome='category',\n",
    "                    #sequence_available=bool,\n",
    "                    location='category',\n",
    "                    admin3='category',\n",
    "                    admin2='category',\n",
    "                    admin1='category',\n",
    "                    country_new='category',\n",
    "                    travel_history_binary='category',\n",
    "                    data_moderator_initials='category'\n",
    "                    ),)"
   ]
  },
  {
   "cell_type": "code",
   "execution_count": 3,
   "metadata": {},
   "outputs": [
    {
     "name": "stdout",
     "output_type": "stream",
     "text": [
      "<class 'pandas.core.frame.DataFrame'>\n",
      "RangeIndex: 572679 entries, 0 to 572678\n",
      "Data columns (total 33 columns):\n",
      " #   Column                    Non-Null Count   Dtype   \n",
      "---  ------                    --------------   -----   \n",
      " 0   ID                        572679 non-null  object  \n",
      " 1   age                       572679 non-null  string  \n",
      " 2   sex                       572679 non-null  category\n",
      " 3   city                      524584 non-null  category\n",
      " 4   province                  564785 non-null  category\n",
      " 5   country                   572635 non-null  category\n",
      " 6   latitude                  572679 non-null  float64 \n",
      " 7   longitude                 572679 non-null  float64 \n",
      " 8   geo_resolution            572679 non-null  category\n",
      " 9   date_onset_symptoms       260311 non-null  category\n",
      " 10  date_admission_hospital   9201 non-null    category\n",
      " 11  date_confirmation         572410 non-null  object  \n",
      " 12  symptoms                  1565 non-null    string  \n",
      " 13  lives_in_Wuhan            1626 non-null    category\n",
      " 14  travel_history_dates      2348 non-null    string  \n",
      " 15  travel_history_location   7816 non-null    category\n",
      " 16  reported_market_exposure  402 non-null     category\n",
      " 17  additional_information    32480 non-null   string  \n",
      " 18  chronic_disease_binary    572679 non-null  category\n",
      " 19  chronic_disease           163 non-null     category\n",
      " 20  source                    156527 non-null  category\n",
      " 21  sequence_available        12 non-null      category\n",
      " 22  outcome                   33601 non-null   category\n",
      " 23  date_death_or_discharge   3094 non-null    category\n",
      " 24  notes_for_discussion      232 non-null     string  \n",
      " 25  location                  1892 non-null    category\n",
      " 26  admin3                    531 non-null     category\n",
      " 27  admin2                    43930 non-null   category\n",
      " 28  admin1                    64006 non-null   category\n",
      " 29  country_new               557193 non-null  category\n",
      " 30  admin_id                  572679 non-null  float64 \n",
      " 31  data_moderator_initials   46245 non-null   category\n",
      " 32  travel_history_binary     569209 non-null  category\n",
      "dtypes: category(23), float64(3), object(2), string(5)\n",
      "memory usage: 62.4+ MB\n"
     ]
    }
   ],
   "source": [
    "covid.info()"
   ]
  },
  {
   "cell_type": "code",
   "execution_count": 4,
   "metadata": {},
   "outputs": [
    {
     "data": {
      "text/html": [
       "<div>\n",
       "<style scoped>\n",
       "    .dataframe tbody tr th:only-of-type {\n",
       "        vertical-align: middle;\n",
       "    }\n",
       "\n",
       "    .dataframe tbody tr th {\n",
       "        vertical-align: top;\n",
       "    }\n",
       "\n",
       "    .dataframe thead th {\n",
       "        text-align: right;\n",
       "    }\n",
       "</style>\n",
       "<table border=\"1\" class=\"dataframe\">\n",
       "  <thead>\n",
       "    <tr style=\"text-align: right;\">\n",
       "      <th></th>\n",
       "      <th>age</th>\n",
       "      <th>sex</th>\n",
       "      <th>date_confirmation</th>\n",
       "      <th>chronic_disease_binary</th>\n",
       "      <th>date_death_or_discharge</th>\n",
       "      <th>outcome</th>\n",
       "    </tr>\n",
       "  </thead>\n",
       "  <tbody>\n",
       "    <tr>\n",
       "      <th>0</th>\n",
       "      <td>78</td>\n",
       "      <td>male</td>\n",
       "      <td>21.02.2020</td>\n",
       "      <td>False</td>\n",
       "      <td>22.02.2020</td>\n",
       "      <td>death</td>\n",
       "    </tr>\n",
       "    <tr>\n",
       "      <th>1</th>\n",
       "      <td>61</td>\n",
       "      <td>female</td>\n",
       "      <td>14.02.2020</td>\n",
       "      <td>False</td>\n",
       "      <td>17.02.2020</td>\n",
       "      <td>discharge</td>\n",
       "    </tr>\n",
       "    <tr>\n",
       "      <th>2</th>\n",
       "      <td>66</td>\n",
       "      <td>male</td>\n",
       "      <td>07.02.2020</td>\n",
       "      <td>False</td>\n",
       "      <td>NaN</td>\n",
       "      <td>NaN</td>\n",
       "    </tr>\n",
       "    <tr>\n",
       "      <th>3</th>\n",
       "      <td>27</td>\n",
       "      <td>female</td>\n",
       "      <td>07.02.2020</td>\n",
       "      <td>False</td>\n",
       "      <td>NaN</td>\n",
       "      <td>NaN</td>\n",
       "    </tr>\n",
       "    <tr>\n",
       "      <th>4</th>\n",
       "      <td>17</td>\n",
       "      <td>male</td>\n",
       "      <td>07.02.2020</td>\n",
       "      <td>False</td>\n",
       "      <td>NaN</td>\n",
       "      <td>NaN</td>\n",
       "    </tr>\n",
       "  </tbody>\n",
       "</table>\n",
       "</div>"
      ],
      "text/plain": [
       "  age     sex date_confirmation chronic_disease_binary  \\\n",
       "0  78    male        21.02.2020                  False   \n",
       "1  61  female        14.02.2020                  False   \n",
       "2  66    male        07.02.2020                  False   \n",
       "3  27  female        07.02.2020                  False   \n",
       "4  17    male        07.02.2020                  False   \n",
       "\n",
       "  date_death_or_discharge    outcome  \n",
       "0              22.02.2020      death  \n",
       "1              17.02.2020  discharge  \n",
       "2                     NaN        NaN  \n",
       "3                     NaN        NaN  \n",
       "4                     NaN        NaN  "
      ]
     },
     "execution_count": 4,
     "metadata": {},
     "output_type": "execute_result"
    }
   ],
   "source": [
    "data = covid.filter(['age', 'sex', 'date_confirmation', 'chronic_disease_binary', 'date_death_or_discharge', 'outcome'])\n",
    "data.head()"
   ]
  },
  {
   "cell_type": "code",
   "execution_count": 5,
   "metadata": {},
   "outputs": [
    {
     "name": "stdout",
     "output_type": "stream",
     "text": [
      "<class 'pandas.core.frame.DataFrame'>\n",
      "RangeIndex: 572679 entries, 0 to 572678\n",
      "Data columns (total 6 columns):\n",
      " #   Column                   Non-Null Count   Dtype   \n",
      "---  ------                   --------------   -----   \n",
      " 0   age                      572679 non-null  string  \n",
      " 1   sex                      572679 non-null  category\n",
      " 2   date_confirmation        572410 non-null  object  \n",
      " 3   chronic_disease_binary   572679 non-null  category\n",
      " 4   date_death_or_discharge  3094 non-null    category\n",
      " 5   outcome                  33601 non-null   category\n",
      "dtypes: category(4), object(1), string(1)\n",
      "memory usage: 11.5+ MB\n"
     ]
    }
   ],
   "source": [
    "data.info()"
   ]
  },
  {
   "cell_type": "markdown",
   "metadata": {},
   "source": [
    "## 1. Data cleaning"
   ]
  },
  {
   "cell_type": "markdown",
   "metadata": {},
   "source": [
    "### date_death_or_discharge"
   ]
  },
  {
   "cell_type": "code",
   "execution_count": 6,
   "metadata": {},
   "outputs": [],
   "source": [
    "data['date_death_or_discharge'] = data['date_death_or_discharge'].cat.add_categories('22.02.2021')\n",
    "data['date_death_or_discharge'].fillna('22.02.2021', inplace =True)\n",
    "data['date_death_or_discharge'] = pd.to_datetime(data['date_death_or_discharge'])"
   ]
  },
  {
   "cell_type": "markdown",
   "metadata": {},
   "source": [
    "### date_confirmation"
   ]
  },
  {
   "cell_type": "code",
   "execution_count": 7,
   "metadata": {},
   "outputs": [
    {
     "data": {
      "text/plain": [
       "array(['21.02.2020', '14.02.2020', '07.02.2020', '08.02.2020',\n",
       "       '13.02.2020', '12.02.2020', '10.02.2020', '11.02.2020',\n",
       "       '09.02.2020', '15.02.2020', '16.02.2020', '18.02.2020',\n",
       "       '06.02.2020', '04.02.2020', '17.02.2020', '22.02.2020',\n",
       "       '19.02.2020', '20.02.2020', '25.01.2020', '26.01.2020',\n",
       "       '03.02.2020', '28.01.2020', '23.02.2020', nan, '01.02.2020',\n",
       "       '31.01.2020', '30.01.2020', '24.01.2020', '26.02.2020',\n",
       "       '25.02.2020', '24.02.2020', '05.03.2020', '07.03.2020',\n",
       "       '27.02.2020', '01.03.2020', '28.02.2020', '21.01.2020',\n",
       "       '04.03.2020', '02.03.2020', '27.01.2020', '02.02.2020',\n",
       "       '15.01.2020', '03.03.2020', '23.01.2020', '29.02.2020',\n",
       "       '29.01.2020', '06.03.2020', '05.02.2020',\n",
       "       '25.02.2020 - 26.02.2020', '11.03.2020', '08.03.2020',\n",
       "       '06.01.2020', '13.03.2020', '09.03.2020', '10.03.2020',\n",
       "       '12.03.2020', '14.03.2020', '15.03.2020', '22.01.2020',\n",
       "       '16.03.2020', '17.03.2020', '16.01.2020', '18.03.2020',\n",
       "       '19.01.2020', '20.01.2020', '19.03.2020', '12.01.2020',\n",
       "       '17.01.2020', '18.01.2020', '20.03.2020', '21.03.2020',\n",
       "       '24.03.2020', '26.03.2020', '29.03.2020', '30.03.2020',\n",
       "       '20.04.2020', '21.04.2020', '22.04.2020', '23.04.2020',\n",
       "       '27.03.2020', '22.03.2020', '25.03.2020', '31.03.2020',\n",
       "       '23.03.2020', '24.04.2020', '25.04.2020', '26.04.2020',\n",
       "       '27.04.2020', '28.04.2020', '29.04.2020', '30.04.2020',\n",
       "       '01.05.2020', '03.05.2020', '04.05.2020', '05.05.2020',\n",
       "       '06.05.2020', '28.03.2020', '01.04.2020', '03.04.2020',\n",
       "       '04.04.2020', '05.04.2020', '06.04.2020', '07.04.2020',\n",
       "       '08.04.2020', '15.04.2020', '16.04.2020', '17.04.2020',\n",
       "       '18.04.2020', '19.04.2020', '12.04.2020', '02.05.2020',\n",
       "       '07.05.2020', '08.05.2020', '09.05.2020', '10.05.2020',\n",
       "       '11.05.2020', '12.05.2020', '13.05.2020', '14.05.2020',\n",
       "       '15.05.2020', '16.05.2020', '17.05.2020', '18.05.2020',\n",
       "       '19.05.2020', '20.05.2020', '21.05.2020', '22.05.2020',\n",
       "       '23.05.2020', '24.05.2020', '25.05.2020', '26.05.2020',\n",
       "       '27.05.2020', '28.05.2020', '29.05.2020', '30.05.2020',\n",
       "       '31.05.2020', '01.06.2020', '02.06.2020', '03.06.2020',\n",
       "       '04.06.2020', '05.06.2020', '06.06.2020', '07.06.2020',\n",
       "       '08.06.2020', '02.04.2020', '09.04.2020', '10.04.2020',\n",
       "       '11.04.2020', '13.04.2020', '14.04.2020', '11.06.2020',\n",
       "       '09.06.2020', '12.06.2020', '10.06.2020'], dtype=object)"
      ]
     },
     "execution_count": 7,
     "metadata": {},
     "output_type": "execute_result"
    }
   ],
   "source": [
    "data['date_confirmation'].unique()"
   ]
  },
  {
   "cell_type": "code",
   "execution_count": 8,
   "metadata": {},
   "outputs": [],
   "source": [
    "data['date_confirmation'].replace(to_replace = '25.02.2020 - 26.02.2020', value = '25.02.2020', inplace = True)\n",
    "data['date_confirmation'] = pd.to_datetime(data['date_confirmation'])"
   ]
  },
  {
   "cell_type": "markdown",
   "metadata": {},
   "source": [
    "### Calculate survival duration"
   ]
  },
  {
   "cell_type": "code",
   "execution_count": 9,
   "metadata": {},
   "outputs": [
    {
     "data": {
      "text/html": [
       "<div>\n",
       "<style scoped>\n",
       "    .dataframe tbody tr th:only-of-type {\n",
       "        vertical-align: middle;\n",
       "    }\n",
       "\n",
       "    .dataframe tbody tr th {\n",
       "        vertical-align: top;\n",
       "    }\n",
       "\n",
       "    .dataframe thead th {\n",
       "        text-align: right;\n",
       "    }\n",
       "</style>\n",
       "<table border=\"1\" class=\"dataframe\">\n",
       "  <thead>\n",
       "    <tr style=\"text-align: right;\">\n",
       "      <th></th>\n",
       "      <th>age</th>\n",
       "      <th>sex</th>\n",
       "      <th>date_confirmation</th>\n",
       "      <th>chronic_disease_binary</th>\n",
       "      <th>date_death_or_discharge</th>\n",
       "      <th>outcome</th>\n",
       "      <th>Duration</th>\n",
       "    </tr>\n",
       "  </thead>\n",
       "  <tbody>\n",
       "    <tr>\n",
       "      <th>0</th>\n",
       "      <td>78</td>\n",
       "      <td>male</td>\n",
       "      <td>2020-02-21</td>\n",
       "      <td>False</td>\n",
       "      <td>2020-02-22</td>\n",
       "      <td>death</td>\n",
       "      <td>1.0</td>\n",
       "    </tr>\n",
       "    <tr>\n",
       "      <th>1</th>\n",
       "      <td>61</td>\n",
       "      <td>female</td>\n",
       "      <td>2020-02-14</td>\n",
       "      <td>False</td>\n",
       "      <td>2020-02-17</td>\n",
       "      <td>discharge</td>\n",
       "      <td>3.0</td>\n",
       "    </tr>\n",
       "    <tr>\n",
       "      <th>2</th>\n",
       "      <td>66</td>\n",
       "      <td>male</td>\n",
       "      <td>2020-07-02</td>\n",
       "      <td>False</td>\n",
       "      <td>2021-02-22</td>\n",
       "      <td>NaN</td>\n",
       "      <td>235.0</td>\n",
       "    </tr>\n",
       "    <tr>\n",
       "      <th>3</th>\n",
       "      <td>27</td>\n",
       "      <td>female</td>\n",
       "      <td>2020-07-02</td>\n",
       "      <td>False</td>\n",
       "      <td>2021-02-22</td>\n",
       "      <td>NaN</td>\n",
       "      <td>235.0</td>\n",
       "    </tr>\n",
       "    <tr>\n",
       "      <th>4</th>\n",
       "      <td>17</td>\n",
       "      <td>male</td>\n",
       "      <td>2020-07-02</td>\n",
       "      <td>False</td>\n",
       "      <td>2021-02-22</td>\n",
       "      <td>NaN</td>\n",
       "      <td>235.0</td>\n",
       "    </tr>\n",
       "  </tbody>\n",
       "</table>\n",
       "</div>"
      ],
      "text/plain": [
       "  age     sex date_confirmation chronic_disease_binary  \\\n",
       "0  78    male        2020-02-21                  False   \n",
       "1  61  female        2020-02-14                  False   \n",
       "2  66    male        2020-07-02                  False   \n",
       "3  27  female        2020-07-02                  False   \n",
       "4  17    male        2020-07-02                  False   \n",
       "\n",
       "  date_death_or_discharge    outcome  Duration  \n",
       "0              2020-02-22      death       1.0  \n",
       "1              2020-02-17  discharge       3.0  \n",
       "2              2021-02-22        NaN     235.0  \n",
       "3              2021-02-22        NaN     235.0  \n",
       "4              2021-02-22        NaN     235.0  "
      ]
     },
     "execution_count": 9,
     "metadata": {},
     "output_type": "execute_result"
    }
   ],
   "source": [
    "data['Duration'] = (data['date_death_or_discharge'] - data['date_confirmation']).dt.days.abs()\n",
    "data.head()"
   ]
  },
  {
   "cell_type": "markdown",
   "metadata": {},
   "source": [
    "### outcome"
   ]
  },
  {
   "cell_type": "code",
   "execution_count": 10,
   "metadata": {},
   "outputs": [
    {
     "data": {
      "text/plain": [
       "0                                                    death\n",
       "1                                                discharge\n",
       "2                                                      NaN\n",
       "342                                             discharged\n",
       "662                                             Discharged\n",
       "752                                       not hospitalized\n",
       "759                                              recovered\n",
       "766                          recovering at home 03.03.2020\n",
       "786                               released from quarantine\n",
       "810                                                 severe\n",
       "811                                                 stable\n",
       "1025                                                  died\n",
       "1101                                                 Death\n",
       "1176                                                  dead\n",
       "2137     Symptoms only improved with cough. Currently h...\n",
       "2175        treated in an intensive care unit (14.02.2020)\n",
       "3471                                                 Alive\n",
       "3476                                                  Dead\n",
       "3480                                             Recovered\n",
       "3488                                                Stable\n",
       "3489                                                  Died\n",
       "3547                                              Deceased\n",
       "3868                                      stable condition\n",
       "3985                                       Under treatment\n",
       "4005                                   Receiving Treatment\n",
       "4012                                        severe illness\n",
       "4077                                    critical condition\n",
       "20260                                         Hospitalized\n",
       "Name: outcome, dtype: category\n",
       "Categories (27, object): ['Alive', 'Dead', 'Death', 'Deceased', ..., 'stable', 'stable condition', 'treated in an intensive care unit (14.02.2020)', 'Hospitalized']"
      ]
     },
     "execution_count": 10,
     "metadata": {},
     "output_type": "execute_result"
    }
   ],
   "source": [
    "data.outcome.drop_duplicates()"
   ]
  },
  {
   "cell_type": "code",
   "execution_count": 11,
   "metadata": {},
   "outputs": [
    {
     "data": {
      "text/plain": [
       "0     True\n",
       "1    False\n",
       "Name: outcome, dtype: bool"
      ]
     },
     "execution_count": 11,
     "metadata": {},
     "output_type": "execute_result"
    }
   ],
   "source": [
    "died = ['death', 'Death', 'dead', 'Dead', 'Died', 'Deceased']\n",
    "data['outcome'].replace(to_replace = died, value = 'died', inplace = True)\n",
    "data[\"outcome\"]=data[\"outcome\"]==\"died\"\n",
    "data.outcome.drop_duplicates()"
   ]
  },
  {
   "cell_type": "markdown",
   "metadata": {},
   "source": [
    "### age"
   ]
  },
  {
   "cell_type": "code",
   "execution_count": 12,
   "metadata": {},
   "outputs": [],
   "source": [
    "age = {'18 months': '2', '18 month': '2', '7 months': '1', '4 months': '0', '13 month': '1', '5 months': '0', '6 months': '1'\n",
    "       , '9 month': '1', '5 month': '0', '11 month': '1', '8 month': '1', '80+':'85', '90+':'95', '85+': '90'}\n",
    "data['age'].replace(to_replace=age, value=None, inplace=True)"
   ]
  },
  {
   "cell_type": "code",
   "execution_count": 13,
   "metadata": {},
   "outputs": [
    {
     "data": {
      "text/plain": [
       "array(['78', '61', '66', '27', '17', '51', '68', '26', '30', '53', '35',\n",
       "       '28', '58', '33', '50', '45', '24', '88', '29', '21', '52', '60',\n",
       "       '56', '79', '49', '82', '25', '40', '69', '89', '59', '19', '39',\n",
       "       '43', '7', '44', '16', '47', '8', '10', '55', '38', '42', '34',\n",
       "       '62', '71', '64', '36', '31', '1', '48', '54', '65', '46', '57',\n",
       "       '32', '80', '73', '6', '22', '41', '70', '96', '20', '63', '1.75',\n",
       "       '75', '0.6666666667', '12', '77', '18', '72', '4', '95', '37',\n",
       "       '23', '99', '85', '91', '87', '14', '76', '94', '0.5', '0.25',\n",
       "       '67', '15', '9', '13', '74', '81', '11', '5', '84', '86', '', '83',\n",
       "       '2', '100', ' 100', '3', '93', '92', '97', '0.08333', '105', '0',\n",
       "       '0.75', '90', '101', '98', '39.0', '44.0', '54.0', '45.0', '30.0',\n",
       "       '33.0', '50.0', '20.0', '53.0', '46.0', '31.0', '35.0', '80.0',\n",
       "       '72.0', '24.0', '37.0', '27.0', '65.0', '28.0', '40.0', '34.0',\n",
       "       '36.0', '41.0', '38.0', '57.0', '32.0', '52.0', '47.0', '21.0',\n",
       "       '55.0', '51.0', '43.0', '26.0', '60.0', '63.0', '56.0', '66.0',\n",
       "       '48.0', '71.0', '68.0', '22.0', '42.0', '58.0', '25.0', '18.0',\n",
       "       '11.0', '15.0', '17.0', '78.0', '49.0', '16.0', '64.0', '61.0',\n",
       "       '10.0', '73.0', '23.0', '59.0', '70.0', '7.0', '1.0', '14.0',\n",
       "       '75.0', '69.0', '67.0', '79.0', '5.0', '62.0', '19.0', '29.0',\n",
       "       '81.0', '77.0', '90.0', '76.0', '12.0', '13.0', '4.0', '9.0',\n",
       "       '74.0', '8.0', '3.0', '6.0', '88.0', '1.5', '0.4', '0.3', '2.5',\n",
       "       '0.2', '0.7', '29.6', '0.1', '3.5', '0.9', '54.9', '0.6', '93.0',\n",
       "       '89.0', '85.0', '82.0', '97.0', '83.0', '86.0', '91.0', '94.0',\n",
       "       '2.0', '84.0', '95.0', '92.0', '102', '121', '04', '104', '87.0',\n",
       "       '96.0', '100.0', '103.0', '99.0', '98.0', '105.0', '107.0',\n",
       "       '102.0', '104.0', '101.0', '106.0'], dtype=object)"
      ]
     },
     "execution_count": 13,
     "metadata": {},
     "output_type": "execute_result"
    }
   ],
   "source": [
    "data[['age1','age2']] = data['age'].str.split('-', n=1, expand=True)\n",
    "data.age2.fillna(data.age1, inplace=True)\n",
    "data.age2.unique()"
   ]
  },
  {
   "cell_type": "code",
   "execution_count": 14,
   "metadata": {},
   "outputs": [],
   "source": [
    "del data['age']"
   ]
  },
  {
   "cell_type": "code",
   "execution_count": 15,
   "metadata": {},
   "outputs": [
    {
     "data": {
      "text/plain": [
       "array([7.80000000e+01, 6.10000000e+01, 6.60000000e+01, 2.70000000e+01,\n",
       "       1.70000000e+01, 5.10000000e+01, 6.80000000e+01, 2.60000000e+01,\n",
       "       3.00000000e+01, 5.30000000e+01, 3.50000000e+01, 2.80000000e+01,\n",
       "       5.80000000e+01, 3.30000000e+01, 5.00000000e+01, 4.50000000e+01,\n",
       "       2.40000000e+01, 8.80000000e+01, 2.90000000e+01, 2.10000000e+01,\n",
       "       5.20000000e+01, 6.00000000e+01, 5.60000000e+01, 7.90000000e+01,\n",
       "       4.90000000e+01, 8.20000000e+01, 2.50000000e+01, 4.00000000e+01,\n",
       "       6.90000000e+01, 8.90000000e+01, 5.90000000e+01, 1.90000000e+01,\n",
       "       3.90000000e+01, 4.30000000e+01, 7.00000000e+00, 4.40000000e+01,\n",
       "       1.60000000e+01, 4.70000000e+01, 8.00000000e+00, 1.00000000e+01,\n",
       "       5.50000000e+01, 3.80000000e+01, 4.20000000e+01, 3.40000000e+01,\n",
       "       6.20000000e+01, 7.10000000e+01, 6.40000000e+01, 3.60000000e+01,\n",
       "       3.10000000e+01, 1.00000000e+00, 4.80000000e+01, 5.40000000e+01,\n",
       "       6.50000000e+01, 4.60000000e+01, 5.70000000e+01, 3.20000000e+01,\n",
       "       8.00000000e+01, 7.30000000e+01, 6.00000000e+00, 2.20000000e+01,\n",
       "       4.10000000e+01, 7.00000000e+01, 9.60000000e+01, 2.00000000e+01,\n",
       "       6.30000000e+01, 1.75000000e+00, 7.50000000e+01, 6.66666667e-01,\n",
       "       1.20000000e+01, 7.70000000e+01, 1.80000000e+01, 7.20000000e+01,\n",
       "       4.00000000e+00, 9.50000000e+01, 3.70000000e+01, 2.30000000e+01,\n",
       "       9.90000000e+01, 8.50000000e+01, 9.10000000e+01, 8.70000000e+01,\n",
       "       1.40000000e+01, 7.60000000e+01, 9.40000000e+01, 5.00000000e-01,\n",
       "       2.50000000e-01, 6.70000000e+01, 1.50000000e+01, 9.00000000e+00,\n",
       "       1.30000000e+01, 7.40000000e+01, 8.10000000e+01, 1.10000000e+01,\n",
       "       5.00000000e+00, 8.40000000e+01, 8.60000000e+01,            nan,\n",
       "       8.30000000e+01, 2.00000000e+00, 1.00000000e+02, 3.00000000e+00,\n",
       "       9.30000000e+01, 9.20000000e+01, 9.70000000e+01, 8.33300000e-02,\n",
       "       1.05000000e+02, 0.00000000e+00, 7.50000000e-01, 9.00000000e+01,\n",
       "       1.01000000e+02, 9.80000000e+01, 1.50000000e+00, 4.00000000e-01,\n",
       "       3.00000000e-01, 2.50000000e+00, 2.00000000e-01, 7.00000000e-01,\n",
       "       2.96000000e+01, 1.00000000e-01, 3.50000000e+00, 9.00000000e-01,\n",
       "       5.49000000e+01, 6.00000000e-01, 1.02000000e+02, 1.21000000e+02,\n",
       "       1.04000000e+02, 1.03000000e+02, 1.07000000e+02, 1.06000000e+02])"
      ]
     },
     "execution_count": 15,
     "metadata": {},
     "output_type": "execute_result"
    }
   ],
   "source": [
    "data['age1'] = pd.to_numeric(data['age1'])\n",
    "data['age2'] = pd.to_numeric(data['age2'])\n",
    "data.age2.unique()"
   ]
  },
  {
   "cell_type": "code",
   "execution_count": 16,
   "metadata": {},
   "outputs": [
    {
     "data": {
      "text/html": [
       "<div>\n",
       "<style scoped>\n",
       "    .dataframe tbody tr th:only-of-type {\n",
       "        vertical-align: middle;\n",
       "    }\n",
       "\n",
       "    .dataframe tbody tr th {\n",
       "        vertical-align: top;\n",
       "    }\n",
       "\n",
       "    .dataframe thead th {\n",
       "        text-align: right;\n",
       "    }\n",
       "</style>\n",
       "<table border=\"1\" class=\"dataframe\">\n",
       "  <thead>\n",
       "    <tr style=\"text-align: right;\">\n",
       "      <th></th>\n",
       "      <th>sex</th>\n",
       "      <th>date_confirmation</th>\n",
       "      <th>chronic_disease_binary</th>\n",
       "      <th>date_death_or_discharge</th>\n",
       "      <th>outcome</th>\n",
       "      <th>Duration</th>\n",
       "      <th>age1</th>\n",
       "      <th>age2</th>\n",
       "      <th>age3</th>\n",
       "    </tr>\n",
       "  </thead>\n",
       "  <tbody>\n",
       "    <tr>\n",
       "      <th>0</th>\n",
       "      <td>male</td>\n",
       "      <td>2020-02-21</td>\n",
       "      <td>False</td>\n",
       "      <td>2020-02-22</td>\n",
       "      <td>True</td>\n",
       "      <td>1.0</td>\n",
       "      <td>78.0</td>\n",
       "      <td>78.0</td>\n",
       "      <td>78.0</td>\n",
       "    </tr>\n",
       "    <tr>\n",
       "      <th>1</th>\n",
       "      <td>female</td>\n",
       "      <td>2020-02-14</td>\n",
       "      <td>False</td>\n",
       "      <td>2020-02-17</td>\n",
       "      <td>False</td>\n",
       "      <td>3.0</td>\n",
       "      <td>61.0</td>\n",
       "      <td>61.0</td>\n",
       "      <td>61.0</td>\n",
       "    </tr>\n",
       "    <tr>\n",
       "      <th>2</th>\n",
       "      <td>male</td>\n",
       "      <td>2020-07-02</td>\n",
       "      <td>False</td>\n",
       "      <td>2021-02-22</td>\n",
       "      <td>False</td>\n",
       "      <td>235.0</td>\n",
       "      <td>66.0</td>\n",
       "      <td>66.0</td>\n",
       "      <td>66.0</td>\n",
       "    </tr>\n",
       "    <tr>\n",
       "      <th>3</th>\n",
       "      <td>female</td>\n",
       "      <td>2020-07-02</td>\n",
       "      <td>False</td>\n",
       "      <td>2021-02-22</td>\n",
       "      <td>False</td>\n",
       "      <td>235.0</td>\n",
       "      <td>27.0</td>\n",
       "      <td>27.0</td>\n",
       "      <td>27.0</td>\n",
       "    </tr>\n",
       "    <tr>\n",
       "      <th>4</th>\n",
       "      <td>male</td>\n",
       "      <td>2020-07-02</td>\n",
       "      <td>False</td>\n",
       "      <td>2021-02-22</td>\n",
       "      <td>False</td>\n",
       "      <td>235.0</td>\n",
       "      <td>17.0</td>\n",
       "      <td>17.0</td>\n",
       "      <td>17.0</td>\n",
       "    </tr>\n",
       "  </tbody>\n",
       "</table>\n",
       "</div>"
      ],
      "text/plain": [
       "      sex date_confirmation chronic_disease_binary date_death_or_discharge  \\\n",
       "0    male        2020-02-21                  False              2020-02-22   \n",
       "1  female        2020-02-14                  False              2020-02-17   \n",
       "2    male        2020-07-02                  False              2021-02-22   \n",
       "3  female        2020-07-02                  False              2021-02-22   \n",
       "4    male        2020-07-02                  False              2021-02-22   \n",
       "\n",
       "   outcome  Duration  age1  age2  age3  \n",
       "0     True       1.0  78.0  78.0  78.0  \n",
       "1    False       3.0  61.0  61.0  61.0  \n",
       "2    False     235.0  66.0  66.0  66.0  \n",
       "3    False     235.0  27.0  27.0  27.0  \n",
       "4    False     235.0  17.0  17.0  17.0  "
      ]
     },
     "execution_count": 16,
     "metadata": {},
     "output_type": "execute_result"
    }
   ],
   "source": [
    "col = data.loc[: , 'age1':'age2']\n",
    "data['age3'] = col.mean(axis=1)\n",
    "data.head()"
   ]
  },
  {
   "cell_type": "code",
   "execution_count": 17,
   "metadata": {},
   "outputs": [
    {
     "name": "stdout",
     "output_type": "stream",
     "text": [
      "<class 'pandas.core.frame.DataFrame'>\n",
      "RangeIndex: 572679 entries, 0 to 572678\n",
      "Data columns (total 9 columns):\n",
      " #   Column                   Non-Null Count   Dtype         \n",
      "---  ------                   --------------   -----         \n",
      " 0   sex                      572679 non-null  category      \n",
      " 1   date_confirmation        572410 non-null  datetime64[ns]\n",
      " 2   chronic_disease_binary   572679 non-null  category      \n",
      " 3   date_death_or_discharge  572679 non-null  datetime64[ns]\n",
      " 4   outcome                  572679 non-null  bool          \n",
      " 5   Duration                 572410 non-null  float64       \n",
      " 6   age1                     572679 non-null  float64       \n",
      " 7   age2                     572631 non-null  float64       \n",
      " 8   age3                     572679 non-null  float64       \n",
      "dtypes: bool(1), category(2), datetime64[ns](2), float64(4)\n",
      "memory usage: 27.9 MB\n"
     ]
    }
   ],
   "source": [
    "data.info()"
   ]
  },
  {
   "cell_type": "markdown",
   "metadata": {},
   "source": [
    "### Other variables, NA, count outcome value"
   ]
  },
  {
   "cell_type": "code",
   "execution_count": 18,
   "metadata": {},
   "outputs": [],
   "source": [
    "data['chronic_disease_binary']=data['chronic_disease_binary']=='True'"
   ]
  },
  {
   "cell_type": "code",
   "execution_count": 19,
   "metadata": {},
   "outputs": [
    {
     "data": {
      "text/plain": [
       "['male', 'female']\n",
       "Categories (2, object): ['male', 'female']"
      ]
     },
     "execution_count": 19,
     "metadata": {},
     "output_type": "execute_result"
    }
   ],
   "source": [
    "data.sex.unique()"
   ]
  },
  {
   "cell_type": "code",
   "execution_count": 20,
   "metadata": {},
   "outputs": [],
   "source": [
    "#Drop NA\n",
    "data.dropna(inplace=True)"
   ]
  },
  {
   "cell_type": "code",
   "execution_count": 21,
   "metadata": {},
   "outputs": [
    {
     "data": {
      "text/plain": [
       "False    571035\n",
       "True       1327\n",
       "Name: outcome, dtype: int64"
      ]
     },
     "execution_count": 21,
     "metadata": {},
     "output_type": "execute_result"
    }
   ],
   "source": [
    "data.outcome.value_counts()"
   ]
  },
  {
   "cell_type": "markdown",
   "metadata": {},
   "source": [
    "## 2. Data Exploration"
   ]
  },
  {
   "cell_type": "markdown",
   "metadata": {},
   "source": [
    "### Dead vs. Survived Patients"
   ]
  },
  {
   "cell_type": "code",
   "execution_count": 22,
   "metadata": {},
   "outputs": [
    {
     "data": {
      "image/png": "[encoded data removed]",
      "text/plain": [
       "<Figure size 576x360 with 2 Axes>"
      ]
     },
     "metadata": {
      "needs_background": "light"
     },
     "output_type": "display_data"
    }
   ],
   "source": [
    "keys, counts = np.unique(data.outcome, return_counts=True)\n",
    "counts_norm = counts/counts.sum()\n",
    "\n",
    "fig = plt.figure(figsize=(8, 5)) #specify figure size\n",
    "gs = gridspec.GridSpec(1, 2, width_ratios=[3,1]) #specify relative size of left and right plot\n",
    "\n",
    "#Absolute values\n",
    "ax0 = plt.subplot(gs[0])\n",
    "ax0 = plt.bar(['Survived', 'Dead'], counts, color=['#1f77b4','#ff7f0e']) #left bar plot\n",
    "ax0 = plt.title('Dead vs Survived:\\n Absolute distribution') \n",
    "ax0 = plt.ylabel('frequency')\n",
    "ax0 = plt.text(['Survive'], counts[0]/2, counts[0]) #add text box with count of non-fraudulent cases\n",
    "ax0 = plt.text(['Dead'], counts[1]/2, counts[1]) #add text box with count of fraudulent cases\n",
    "\n",
    "#Normalized values\n",
    "ax1 = plt.subplot(gs[1])\n",
    "ax1 = plt.bar(['Data'], [counts_norm[0]], label='Survived')\n",
    "ax1 = plt.bar(['Data'], [counts_norm[1]], bottom=counts_norm[0], label='Dead')\n",
    "ax1 = plt.legend(bbox_to_anchor=(1, 1))\n",
    "ax1 = plt.title('Dead vs Survived:\\n Relative distribution')\n",
    "ax1 = plt.ylabel('frequency')\n",
    "ax1 = plt.text(['Data'],counts_norm[0]/2, '{}%'.format((counts_norm[0]*100).round(1)))\n",
    "ax1 = plt.text(['Data'],(counts_norm[1]/2)+counts_norm[0], '{}%'.format((counts_norm[1]*100).round(1)))\n",
    "\n",
    "plt.tight_layout()\n",
    "plt.show()"
   ]
  },
  {
   "cell_type": "markdown",
   "metadata": {},
   "source": [
    "### Deaths by Gender"
   ]
  },
  {
   "cell_type": "code",
   "execution_count": 23,
   "metadata": {},
   "outputs": [
    {
     "data": {
      "image/png": "[encoded data removed]",
      "text/plain": [
       "<Figure size 864x360 with 2 Axes>"
      ]
     },
     "metadata": {
      "needs_background": "light"
     },
     "output_type": "display_data"
    }
   ],
   "source": [
    "fig = plt.figure(figsize=(12, 5)) #specify figure size\n",
    "\n",
    "#Absolute distribution\n",
    "plt.subplot(1, 2, 1)\n",
    "ax1 = data.groupby(['sex', 'outcome'])['outcome'].count().unstack().plot.bar(rot=0, ax=plt.gca(), width=0.7)\n",
    "plt.title('Dead vs Survived by sex:\\n Absolute distribution') \n",
    "#plot bar labels\n",
    "for p in ax1.patches:\n",
    "    ax1.annotate(str(p.get_height()), (p.get_x() +0.1, p.get_height() * 0.605))\n",
    "\n",
    "#Relative distribution\n",
    "plt.subplot(1, 2, 2)\n",
    "ax2 = data.groupby(['sex','outcome'])['outcome'].size().groupby(level=0).apply(\n",
    "    lambda x: 100 * x / x.sum()).unstack().plot(kind='bar',stacked=True, rot=0, ax=plt.gca())\n",
    "plt.gca().yaxis.set_major_formatter(mtick.PercentFormatter())\n",
    "plt.legend(bbox_to_anchor=(1, 1))\n",
    "plt.title('Dead vs Survived by sex:\\n Relative distribution') \n",
    "#plot bar labels\n",
    "for p, q in zip(ax2.patches[0:2], ax2.patches[2:4]):\n",
    "    ax2.annotate(str(round(p.get_height(),1)) + '%', (p.get_x()+0.1, p.get_height()/2))\n",
    "    ax2.annotate(str(round(q.get_height(),1)) + '%', (q.get_x()+0.1, q.get_height()/2+p.get_height()))\n",
    "\n",
    "plt.tight_layout()\n",
    "plt.show()"
   ]
  },
  {
   "cell_type": "markdown",
   "metadata": {},
   "source": [
    "### Deaths by Age Group"
   ]
  },
  {
   "cell_type": "code",
   "execution_count": 24,
   "metadata": {},
   "outputs": [],
   "source": [
    "data['age group'] = np.where(data.age3 <= 40, 'young', np.where(data.age3 <=65, 'middle', 'old'))"
   ]
  },
  {
   "cell_type": "code",
   "execution_count": 25,
   "metadata": {},
   "outputs": [
    {
     "data": {
      "image/png": "[encoded data removed]",
      "text/plain": [
       "<Figure size 864x360 with 2 Axes>"
      ]
     },
     "metadata": {
      "needs_background": "light"
     },
     "output_type": "display_data"
    }
   ],
   "source": [
    "fig = plt.figure(figsize=(12, 5)) #specify figure size\n",
    "\n",
    "#Absolute distribution\n",
    "plt.subplot(1, 2, 1)\n",
    "ax1 = data.groupby(['age group', 'outcome'])['outcome'].count().unstack().plot.bar(rot=0, ax=plt.gca(), width=0.7)\n",
    "plt.title('Dead vs Survived by age group:\\n Absolute distribution') \n",
    "#plot bar labels\n",
    "for p in ax1.patches:\n",
    "    ax1.annotate(str(p.get_height()), (p.get_x() +0.1, p.get_height() * 0.605))\n",
    "\n",
    "#Relative distribution\n",
    "plt.subplot(1, 2, 2)\n",
    "ax2 = data.groupby(['age group','outcome'])['outcome'].size().groupby(level=0).apply(\n",
    "    lambda x: 100 * x / x.sum()).unstack().plot(kind='bar',stacked=True, rot=0, ax=plt.gca())\n",
    "plt.gca().yaxis.set_major_formatter(mtick.PercentFormatter())\n",
    "plt.legend(bbox_to_anchor=(1, 1))\n",
    "plt.title('Dead vs Survived by age group:\\n Relative distribution') \n",
    "#plot bar labels\n",
    "for p, q in zip(ax2.patches[0:2], ax2.patches[2:4]):\n",
    "    ax2.annotate(str(round(p.get_height(),1)) + '%', (p.get_x()+0.1, p.get_height()/2))\n",
    "    ax2.annotate(str(round(q.get_height(),1)) + '%', (q.get_x()+0.1, q.get_height()/2+p.get_height()))\n",
    "\n",
    "plt.tight_layout()\n",
    "plt.show()"
   ]
  },
  {
   "cell_type": "markdown",
   "metadata": {},
   "source": [
    "### Deaths by Chronic Deseases"
   ]
  },
  {
   "cell_type": "code",
   "execution_count": 26,
   "metadata": {},
   "outputs": [
    {
     "data": {
      "image/png": "[encoded data removed]",
      "text/plain": [
       "<Figure size 864x360 with 2 Axes>"
      ]
     },
     "metadata": {
      "needs_background": "light"
     },
     "output_type": "display_data"
    }
   ],
   "source": [
    "fig = plt.figure(figsize=(12, 5)) #specify figure size\n",
    "\n",
    "#Absolute distribution\n",
    "plt.subplot(1, 2, 1)\n",
    "ax1 = data.groupby(['chronic_disease_binary', 'outcome'])['outcome'].count().unstack().plot.bar(rot=0, ax=plt.gca(), width=0.7)\n",
    "plt.title('Dead vs Survived by chronic disease:\\n Absolute distribution') \n",
    "#plot bar labels\n",
    "for p in ax1.patches:\n",
    "    ax1.annotate(str(p.get_height()), (p.get_x() +0.1, p.get_height() * 0.605))\n",
    "\n",
    "#Relative distribution\n",
    "plt.subplot(1, 2, 2)\n",
    "ax2 = data.groupby(['chronic_disease_binary','outcome'])['outcome'].size().groupby(level=0).apply(\n",
    "    lambda x: 100 * x / x.sum()).unstack().plot(kind='bar',stacked=True, rot=0, ax=plt.gca())\n",
    "plt.gca().yaxis.set_major_formatter(mtick.PercentFormatter())\n",
    "plt.legend(bbox_to_anchor=(1, 1))\n",
    "plt.title('Dead vs Survived by chronic disease:\\n Relative distribution') \n",
    "#plot bar labels\n",
    "for p, q in zip(ax2.patches[0:2], ax2.patches[2:4]):\n",
    "    ax2.annotate(str(round(p.get_height(),1)) + '%', (p.get_x()+0.1, p.get_height()/2))\n",
    "    ax2.annotate(str(round(q.get_height(),1)) + '%', (q.get_x()+0.1, q.get_height()/2+p.get_height()))\n",
    "\n",
    "plt.tight_layout()\n",
    "plt.show()"
   ]
  },
  {
   "cell_type": "markdown",
   "metadata": {},
   "source": [
    "## 3. Analysis"
   ]
  },
  {
   "cell_type": "markdown",
   "metadata": {},
   "source": [
    "### 3.1 Kaplan-Meier estimator for survival function"
   ]
  },
  {
   "cell_type": "markdown",
   "metadata": {},
   "source": [
    "#### Kaplan Meier curve"
   ]
  },
  {
   "cell_type": "code",
   "execution_count": 28,
   "metadata": {},
   "outputs": [
    {
     "ename": "KeyError",
     "evalue": "\"None of [Index(['At risk', 'Censored', 'Events'], dtype='object')] are in the [index]\"",
     "output_type": "error",
     "traceback": [
      "\u001b[1;31m---------------------------------------------------------------------------\u001b[0m",
      "\u001b[1;31mKeyError\u001b[0m                                  Traceback (most recent call last)",
      "\u001b[1;32m<ipython-input-28-78bcb90ad66e>\u001b[0m in \u001b[0;36m<module>\u001b[1;34m\u001b[0m\n\u001b[0;32m      7\u001b[0m \u001b[1;31m# plotting kmf curve\u001b[0m\u001b[1;33m\u001b[0m\u001b[1;33m\u001b[0m\u001b[1;33m\u001b[0m\u001b[0m\n\u001b[0;32m      8\u001b[0m \u001b[0mfig\u001b[0m\u001b[1;33m,\u001b[0m \u001b[0max\u001b[0m \u001b[1;33m=\u001b[0m \u001b[0mplt\u001b[0m\u001b[1;33m.\u001b[0m\u001b[0msubplots\u001b[0m\u001b[1;33m(\u001b[0m\u001b[0mfigsize\u001b[0m\u001b[1;33m=\u001b[0m\u001b[1;33m(\u001b[0m\u001b[1;36m12\u001b[0m\u001b[1;33m,\u001b[0m\u001b[1;36m7\u001b[0m\u001b[1;33m)\u001b[0m\u001b[1;33m)\u001b[0m\u001b[1;33m\u001b[0m\u001b[1;33m\u001b[0m\u001b[0m\n\u001b[1;32m----> 9\u001b[1;33m \u001b[0mkmf\u001b[0m\u001b[1;33m.\u001b[0m\u001b[0mplot\u001b[0m\u001b[1;33m(\u001b[0m\u001b[0max\u001b[0m\u001b[1;33m=\u001b[0m\u001b[0max\u001b[0m\u001b[1;33m,\u001b[0m\u001b[0mshow_censors\u001b[0m\u001b[1;33m=\u001b[0m\u001b[1;32mTrue\u001b[0m\u001b[1;33m,\u001b[0m \u001b[0mcensor_styles\u001b[0m\u001b[1;33m=\u001b[0m\u001b[1;33m{\u001b[0m\u001b[1;34m'ms'\u001b[0m\u001b[1;33m:\u001b[0m \u001b[1;36m3\u001b[0m\u001b[1;33m,\u001b[0m \u001b[1;34m'marker'\u001b[0m\u001b[1;33m:\u001b[0m \u001b[1;34m's'\u001b[0m\u001b[1;33m}\u001b[0m\u001b[1;33m,\u001b[0m\u001b[0mat_risk_counts\u001b[0m\u001b[1;33m=\u001b[0m\u001b[1;32mTrue\u001b[0m\u001b[1;33m)\u001b[0m\u001b[1;33m\u001b[0m\u001b[1;33m\u001b[0m\u001b[0m\n\u001b[0m\u001b[0;32m     10\u001b[0m \u001b[0max\u001b[0m\u001b[1;33m.\u001b[0m\u001b[0mset_title\u001b[0m\u001b[1;33m(\u001b[0m\u001b[1;34m'Kaplan-Meier Survival Curve - Covid19'\u001b[0m\u001b[1;33m)\u001b[0m\u001b[1;33m\u001b[0m\u001b[1;33m\u001b[0m\u001b[0m\n\u001b[0;32m     11\u001b[0m \u001b[0max\u001b[0m\u001b[1;33m.\u001b[0m\u001b[0mset_xlabel\u001b[0m\u001b[1;33m(\u001b[0m\u001b[1;34m'Covid19 Duration Time (Days)'\u001b[0m\u001b[1;33m)\u001b[0m\u001b[1;33m\u001b[0m\u001b[1;33m\u001b[0m\u001b[0m\n",
      "\u001b[1;32m~\\anaconda3\\lib\\site-packages\\lifelines\\fitters\\kaplan_meier_fitter.py\u001b[0m in \u001b[0;36mplot\u001b[1;34m(self, **kwargs)\u001b[0m\n\u001b[0;32m    425\u001b[0m             \u001b[0mDeprecationWarning\u001b[0m\u001b[1;33m,\u001b[0m\u001b[1;33m\u001b[0m\u001b[1;33m\u001b[0m\u001b[0m\n\u001b[0;32m    426\u001b[0m         )\n\u001b[1;32m--> 427\u001b[1;33m         \u001b[1;32mreturn\u001b[0m \u001b[0mself\u001b[0m\u001b[1;33m.\u001b[0m\u001b[0mplot_survival_function\u001b[0m\u001b[1;33m(\u001b[0m\u001b[1;33m**\u001b[0m\u001b[0mkwargs\u001b[0m\u001b[1;33m)\u001b[0m\u001b[1;33m\u001b[0m\u001b[1;33m\u001b[0m\u001b[0m\n\u001b[0m\u001b[0;32m    428\u001b[0m \u001b[1;33m\u001b[0m\u001b[0m\n\u001b[0;32m    429\u001b[0m     \u001b[1;32mdef\u001b[0m \u001b[0mplot_survival_function\u001b[0m\u001b[1;33m(\u001b[0m\u001b[0mself\u001b[0m\u001b[1;33m,\u001b[0m \u001b[1;33m**\u001b[0m\u001b[0mkwargs\u001b[0m\u001b[1;33m)\u001b[0m\u001b[1;33m:\u001b[0m\u001b[1;33m\u001b[0m\u001b[1;33m\u001b[0m\u001b[0m\n",
      "\u001b[1;32m~\\anaconda3\\lib\\site-packages\\lifelines\\fitters\\kaplan_meier_fitter.py\u001b[0m in \u001b[0;36mplot_survival_function\u001b[1;34m(self, **kwargs)\u001b[0m\n\u001b[0;32m    430\u001b[0m         \u001b[1;34m\"\"\"Alias of ``plot``\"\"\"\u001b[0m\u001b[1;33m\u001b[0m\u001b[1;33m\u001b[0m\u001b[0m\n\u001b[0;32m    431\u001b[0m         \u001b[1;32mif\u001b[0m \u001b[1;32mnot\u001b[0m \u001b[0mCensoringType\u001b[0m\u001b[1;33m.\u001b[0m\u001b[0mis_interval_censoring\u001b[0m\u001b[1;33m(\u001b[0m\u001b[0mself\u001b[0m\u001b[1;33m)\u001b[0m\u001b[1;33m:\u001b[0m\u001b[1;33m\u001b[0m\u001b[1;33m\u001b[0m\u001b[0m\n\u001b[1;32m--> 432\u001b[1;33m             \u001b[1;32mreturn\u001b[0m \u001b[0m_plot_estimate\u001b[0m\u001b[1;33m(\u001b[0m\u001b[0mself\u001b[0m\u001b[1;33m,\u001b[0m \u001b[0mestimate\u001b[0m\u001b[1;33m=\u001b[0m\u001b[1;34m\"survival_function_\"\u001b[0m\u001b[1;33m,\u001b[0m \u001b[1;33m**\u001b[0m\u001b[0mkwargs\u001b[0m\u001b[1;33m)\u001b[0m\u001b[1;33m\u001b[0m\u001b[1;33m\u001b[0m\u001b[0m\n\u001b[0m\u001b[0;32m    433\u001b[0m         \u001b[1;32melse\u001b[0m\u001b[1;33m:\u001b[0m\u001b[1;33m\u001b[0m\u001b[1;33m\u001b[0m\u001b[0m\n\u001b[0;32m    434\u001b[0m             \u001b[1;31m# hack for now.\u001b[0m\u001b[1;33m\u001b[0m\u001b[1;33m\u001b[0m\u001b[1;33m\u001b[0m\u001b[0m\n",
      "\u001b[1;32m~\\anaconda3\\lib\\site-packages\\lifelines\\plotting.py\u001b[0m in \u001b[0;36m_plot_estimate\u001b[1;34m(cls, estimate, loc, iloc, show_censors, censor_styles, ci_legend, ci_force_lines, ci_only_lines, ci_no_lines, ci_alpha, ci_show, at_risk_counts, logx, ax, **kwargs)\u001b[0m\n\u001b[0;32m    957\u001b[0m \u001b[1;33m\u001b[0m\u001b[0m\n\u001b[0;32m    958\u001b[0m     \u001b[1;32mif\u001b[0m \u001b[0mat_risk_counts\u001b[0m\u001b[1;33m:\u001b[0m\u001b[1;33m\u001b[0m\u001b[1;33m\u001b[0m\u001b[0m\n\u001b[1;32m--> 959\u001b[1;33m         \u001b[0madd_at_risk_counts\u001b[0m\u001b[1;33m(\u001b[0m\u001b[0mcls\u001b[0m\u001b[1;33m,\u001b[0m \u001b[0max\u001b[0m\u001b[1;33m=\u001b[0m\u001b[0mplot_estimate_config\u001b[0m\u001b[1;33m.\u001b[0m\u001b[0max\u001b[0m\u001b[1;33m)\u001b[0m\u001b[1;33m\u001b[0m\u001b[1;33m\u001b[0m\u001b[0m\n\u001b[0m\u001b[0;32m    960\u001b[0m         \u001b[0mplt\u001b[0m\u001b[1;33m.\u001b[0m\u001b[0mtight_layout\u001b[0m\u001b[1;33m(\u001b[0m\u001b[1;33m)\u001b[0m\u001b[1;33m\u001b[0m\u001b[1;33m\u001b[0m\u001b[0m\n\u001b[0;32m    961\u001b[0m \u001b[1;33m\u001b[0m\u001b[0m\n",
      "\u001b[1;32m~\\anaconda3\\lib\\site-packages\\lifelines\\plotting.py\u001b[0m in \u001b[0;36madd_at_risk_counts\u001b[1;34m(labels, rows_to_show, ypos, xticks, ax, at_risk_count_from_start_of_period, *fitters, **kwargs)\u001b[0m\n\u001b[0;32m    510\u001b[0m                 \u001b[1;33m.\u001b[0m\u001b[0mrename\u001b[0m\u001b[1;33m(\u001b[0m\u001b[1;33m{\u001b[0m\u001b[1;34m\"at_risk\"\u001b[0m\u001b[1;33m:\u001b[0m \u001b[1;34m\"At risk\"\u001b[0m\u001b[1;33m,\u001b[0m \u001b[1;34m\"censored\"\u001b[0m\u001b[1;33m:\u001b[0m \u001b[1;34m\"Censored\"\u001b[0m\u001b[1;33m,\u001b[0m \u001b[1;34m\"observed\"\u001b[0m\u001b[1;33m:\u001b[0m \u001b[1;34m\"Events\"\u001b[0m\u001b[1;33m}\u001b[0m\u001b[1;33m)\u001b[0m\u001b[1;33m\u001b[0m\u001b[1;33m\u001b[0m\u001b[0m\n\u001b[0;32m    511\u001b[0m             )\n\u001b[1;32m--> 512\u001b[1;33m             \u001b[0mcounts\u001b[0m\u001b[1;33m.\u001b[0m\u001b[0mextend\u001b[0m\u001b[1;33m(\u001b[0m\u001b[1;33m[\u001b[0m\u001b[0mint\u001b[0m\u001b[1;33m(\u001b[0m\u001b[0mc\u001b[0m\u001b[1;33m)\u001b[0m \u001b[1;32mfor\u001b[0m \u001b[0mc\u001b[0m \u001b[1;32min\u001b[0m \u001b[0mevent_table_slice\u001b[0m\u001b[1;33m.\u001b[0m\u001b[0mloc\u001b[0m\u001b[1;33m[\u001b[0m\u001b[0mrows_to_show\u001b[0m\u001b[1;33m]\u001b[0m\u001b[1;33m]\u001b[0m\u001b[1;33m)\u001b[0m\u001b[1;33m\u001b[0m\u001b[1;33m\u001b[0m\u001b[0m\n\u001b[0m\u001b[0;32m    513\u001b[0m \u001b[1;33m\u001b[0m\u001b[0m\n\u001b[0;32m    514\u001b[0m         \u001b[1;32mif\u001b[0m \u001b[0mn_rows\u001b[0m \u001b[1;33m>\u001b[0m \u001b[1;36m1\u001b[0m\u001b[1;33m:\u001b[0m\u001b[1;33m\u001b[0m\u001b[1;33m\u001b[0m\u001b[0m\n",
      "\u001b[1;32m~\\anaconda3\\lib\\site-packages\\pandas\\core\\indexing.py\u001b[0m in \u001b[0;36m__getitem__\u001b[1;34m(self, key)\u001b[0m\n\u001b[0;32m    877\u001b[0m \u001b[1;33m\u001b[0m\u001b[0m\n\u001b[0;32m    878\u001b[0m             \u001b[0mmaybe_callable\u001b[0m \u001b[1;33m=\u001b[0m \u001b[0mcom\u001b[0m\u001b[1;33m.\u001b[0m\u001b[0mapply_if_callable\u001b[0m\u001b[1;33m(\u001b[0m\u001b[0mkey\u001b[0m\u001b[1;33m,\u001b[0m \u001b[0mself\u001b[0m\u001b[1;33m.\u001b[0m\u001b[0mobj\u001b[0m\u001b[1;33m)\u001b[0m\u001b[1;33m\u001b[0m\u001b[1;33m\u001b[0m\u001b[0m\n\u001b[1;32m--> 879\u001b[1;33m             \u001b[1;32mreturn\u001b[0m \u001b[0mself\u001b[0m\u001b[1;33m.\u001b[0m\u001b[0m_getitem_axis\u001b[0m\u001b[1;33m(\u001b[0m\u001b[0mmaybe_callable\u001b[0m\u001b[1;33m,\u001b[0m \u001b[0maxis\u001b[0m\u001b[1;33m=\u001b[0m\u001b[0maxis\u001b[0m\u001b[1;33m)\u001b[0m\u001b[1;33m\u001b[0m\u001b[1;33m\u001b[0m\u001b[0m\n\u001b[0m\u001b[0;32m    880\u001b[0m \u001b[1;33m\u001b[0m\u001b[0m\n\u001b[0;32m    881\u001b[0m     \u001b[1;32mdef\u001b[0m \u001b[0m_is_scalar_access\u001b[0m\u001b[1;33m(\u001b[0m\u001b[0mself\u001b[0m\u001b[1;33m,\u001b[0m \u001b[0mkey\u001b[0m\u001b[1;33m:\u001b[0m \u001b[0mTuple\u001b[0m\u001b[1;33m)\u001b[0m\u001b[1;33m:\u001b[0m\u001b[1;33m\u001b[0m\u001b[1;33m\u001b[0m\u001b[0m\n",
      "\u001b[1;32m~\\anaconda3\\lib\\site-packages\\pandas\\core\\indexing.py\u001b[0m in \u001b[0;36m_getitem_axis\u001b[1;34m(self, key, axis)\u001b[0m\n\u001b[0;32m   1097\u001b[0m                     \u001b[1;32mraise\u001b[0m \u001b[0mValueError\u001b[0m\u001b[1;33m(\u001b[0m\u001b[1;34m\"Cannot index with multidimensional key\"\u001b[0m\u001b[1;33m)\u001b[0m\u001b[1;33m\u001b[0m\u001b[1;33m\u001b[0m\u001b[0m\n\u001b[0;32m   1098\u001b[0m \u001b[1;33m\u001b[0m\u001b[0m\n\u001b[1;32m-> 1099\u001b[1;33m                 \u001b[1;32mreturn\u001b[0m \u001b[0mself\u001b[0m\u001b[1;33m.\u001b[0m\u001b[0m_getitem_iterable\u001b[0m\u001b[1;33m(\u001b[0m\u001b[0mkey\u001b[0m\u001b[1;33m,\u001b[0m \u001b[0maxis\u001b[0m\u001b[1;33m=\u001b[0m\u001b[0maxis\u001b[0m\u001b[1;33m)\u001b[0m\u001b[1;33m\u001b[0m\u001b[1;33m\u001b[0m\u001b[0m\n\u001b[0m\u001b[0;32m   1100\u001b[0m \u001b[1;33m\u001b[0m\u001b[0m\n\u001b[0;32m   1101\u001b[0m             \u001b[1;31m# nested tuple slicing\u001b[0m\u001b[1;33m\u001b[0m\u001b[1;33m\u001b[0m\u001b[1;33m\u001b[0m\u001b[0m\n",
      "\u001b[1;32m~\\anaconda3\\lib\\site-packages\\pandas\\core\\indexing.py\u001b[0m in \u001b[0;36m_getitem_iterable\u001b[1;34m(self, key, axis)\u001b[0m\n\u001b[0;32m   1035\u001b[0m \u001b[1;33m\u001b[0m\u001b[0m\n\u001b[0;32m   1036\u001b[0m         \u001b[1;31m# A collection of keys\u001b[0m\u001b[1;33m\u001b[0m\u001b[1;33m\u001b[0m\u001b[1;33m\u001b[0m\u001b[0m\n\u001b[1;32m-> 1037\u001b[1;33m         \u001b[0mkeyarr\u001b[0m\u001b[1;33m,\u001b[0m \u001b[0mindexer\u001b[0m \u001b[1;33m=\u001b[0m \u001b[0mself\u001b[0m\u001b[1;33m.\u001b[0m\u001b[0m_get_listlike_indexer\u001b[0m\u001b[1;33m(\u001b[0m\u001b[0mkey\u001b[0m\u001b[1;33m,\u001b[0m \u001b[0maxis\u001b[0m\u001b[1;33m,\u001b[0m \u001b[0mraise_missing\u001b[0m\u001b[1;33m=\u001b[0m\u001b[1;32mFalse\u001b[0m\u001b[1;33m)\u001b[0m\u001b[1;33m\u001b[0m\u001b[1;33m\u001b[0m\u001b[0m\n\u001b[0m\u001b[0;32m   1038\u001b[0m         return self.obj._reindex_with_indexers(\n\u001b[0;32m   1039\u001b[0m             \u001b[1;33m{\u001b[0m\u001b[0maxis\u001b[0m\u001b[1;33m:\u001b[0m \u001b[1;33m[\u001b[0m\u001b[0mkeyarr\u001b[0m\u001b[1;33m,\u001b[0m \u001b[0mindexer\u001b[0m\u001b[1;33m]\u001b[0m\u001b[1;33m}\u001b[0m\u001b[1;33m,\u001b[0m \u001b[0mcopy\u001b[0m\u001b[1;33m=\u001b[0m\u001b[1;32mTrue\u001b[0m\u001b[1;33m,\u001b[0m \u001b[0mallow_dups\u001b[0m\u001b[1;33m=\u001b[0m\u001b[1;32mTrue\u001b[0m\u001b[1;33m\u001b[0m\u001b[1;33m\u001b[0m\u001b[0m\n",
      "\u001b[1;32m~\\anaconda3\\lib\\site-packages\\pandas\\core\\indexing.py\u001b[0m in \u001b[0;36m_get_listlike_indexer\u001b[1;34m(self, key, axis, raise_missing)\u001b[0m\n\u001b[0;32m   1252\u001b[0m             \u001b[0mkeyarr\u001b[0m\u001b[1;33m,\u001b[0m \u001b[0mindexer\u001b[0m\u001b[1;33m,\u001b[0m \u001b[0mnew_indexer\u001b[0m \u001b[1;33m=\u001b[0m \u001b[0max\u001b[0m\u001b[1;33m.\u001b[0m\u001b[0m_reindex_non_unique\u001b[0m\u001b[1;33m(\u001b[0m\u001b[0mkeyarr\u001b[0m\u001b[1;33m)\u001b[0m\u001b[1;33m\u001b[0m\u001b[1;33m\u001b[0m\u001b[0m\n\u001b[0;32m   1253\u001b[0m \u001b[1;33m\u001b[0m\u001b[0m\n\u001b[1;32m-> 1254\u001b[1;33m         \u001b[0mself\u001b[0m\u001b[1;33m.\u001b[0m\u001b[0m_validate_read_indexer\u001b[0m\u001b[1;33m(\u001b[0m\u001b[0mkeyarr\u001b[0m\u001b[1;33m,\u001b[0m \u001b[0mindexer\u001b[0m\u001b[1;33m,\u001b[0m \u001b[0maxis\u001b[0m\u001b[1;33m,\u001b[0m \u001b[0mraise_missing\u001b[0m\u001b[1;33m=\u001b[0m\u001b[0mraise_missing\u001b[0m\u001b[1;33m)\u001b[0m\u001b[1;33m\u001b[0m\u001b[1;33m\u001b[0m\u001b[0m\n\u001b[0m\u001b[0;32m   1255\u001b[0m         \u001b[1;32mreturn\u001b[0m \u001b[0mkeyarr\u001b[0m\u001b[1;33m,\u001b[0m \u001b[0mindexer\u001b[0m\u001b[1;33m\u001b[0m\u001b[1;33m\u001b[0m\u001b[0m\n\u001b[0;32m   1256\u001b[0m \u001b[1;33m\u001b[0m\u001b[0m\n",
      "\u001b[1;32m~\\anaconda3\\lib\\site-packages\\pandas\\core\\indexing.py\u001b[0m in \u001b[0;36m_validate_read_indexer\u001b[1;34m(self, key, indexer, axis, raise_missing)\u001b[0m\n\u001b[0;32m   1296\u001b[0m             \u001b[1;32mif\u001b[0m \u001b[0mmissing\u001b[0m \u001b[1;33m==\u001b[0m \u001b[0mlen\u001b[0m\u001b[1;33m(\u001b[0m\u001b[0mindexer\u001b[0m\u001b[1;33m)\u001b[0m\u001b[1;33m:\u001b[0m\u001b[1;33m\u001b[0m\u001b[1;33m\u001b[0m\u001b[0m\n\u001b[0;32m   1297\u001b[0m                 \u001b[0maxis_name\u001b[0m \u001b[1;33m=\u001b[0m \u001b[0mself\u001b[0m\u001b[1;33m.\u001b[0m\u001b[0mobj\u001b[0m\u001b[1;33m.\u001b[0m\u001b[0m_get_axis_name\u001b[0m\u001b[1;33m(\u001b[0m\u001b[0maxis\u001b[0m\u001b[1;33m)\u001b[0m\u001b[1;33m\u001b[0m\u001b[1;33m\u001b[0m\u001b[0m\n\u001b[1;32m-> 1298\u001b[1;33m                 \u001b[1;32mraise\u001b[0m \u001b[0mKeyError\u001b[0m\u001b[1;33m(\u001b[0m\u001b[1;34mf\"None of [{key}] are in the [{axis_name}]\"\u001b[0m\u001b[1;33m)\u001b[0m\u001b[1;33m\u001b[0m\u001b[1;33m\u001b[0m\u001b[0m\n\u001b[0m\u001b[0;32m   1299\u001b[0m \u001b[1;33m\u001b[0m\u001b[0m\n\u001b[0;32m   1300\u001b[0m             \u001b[1;31m# We (temporarily) allow for some missing keys with .loc, except in\u001b[0m\u001b[1;33m\u001b[0m\u001b[1;33m\u001b[0m\u001b[1;33m\u001b[0m\u001b[0m\n",
      "\u001b[1;31mKeyError\u001b[0m: \"None of [Index(['At risk', 'Censored', 'Events'], dtype='object')] are in the [index]\""
     ]
    },
    {
     "data": {
      "image/png": "[encoded data removed]",
      "text/plain": [
       "<Figure size 864x504 with 2 Axes>"
      ]
     },
     "metadata": {
      "needs_background": "light"
     },
     "output_type": "display_data"
    }
   ],
   "source": [
    "# fitting kmf to the data\n",
    "days = data['Duration'].values\n",
    "outcome = data['outcome'].values\n",
    "kmf = lifelines.KaplanMeierFitter()\n",
    "kmf.fit(days, event_observed=outcome, label='Estimate for Covid19 Survival')\n",
    "\n",
    "# plotting kmf curve\n",
    "fig, ax = plt.subplots(figsize=(12,7))\n",
    "kmf.plot(ax=ax,show_censors=True, censor_styles={'ms': 3, 'marker': 's'},at_risk_counts=True)\n",
    "ax.set_title('Kaplan-Meier Survival Curve - Covid19')\n",
    "ax.set_xlabel('Covid19 Duration Time (Days)')\n",
    "ax.set_ylabel('Covid19 Survival Chance (%)')\n",
    "plt.show()"
   ]
  },
  {
   "cell_type": "markdown",
   "metadata": {},
   "source": [
    "The y-axis represents the probability a patient is survived after 𝑡 days, where 𝑡 days is on the x-axis. It  can be observed that from day 275th (approximately), there is a noticeable drop in patients’ survival chance especially after day 375 (approximately)."
   ]
  },
  {
   "cell_type": "markdown",
   "metadata": {},
   "source": [
    "#### KM curve and log-rank test for female and male"
   ]
  },
  {
   "cell_type": "code",
   "execution_count": 29,
   "metadata": {
    "scrolled": true
   },
   "outputs": [
    {
     "data": {
      "image/png": "[encoded data removed]",
      "text/plain": [
       "<Figure size 864x504 with 1 Axes>"
      ]
     },
     "metadata": {
      "needs_background": "light"
     },
     "output_type": "display_data"
    }
   ],
   "source": [
    "# function for creating Kaplan-Meier curve plots segmented\n",
    "# by categorical variables\n",
    "def plot_categorical_survival(feature, t='Duration', event='outcome', df=data, ax=None):\n",
    "    for cat in df[feature].unique():\n",
    "        idx = df[feature] == cat\n",
    "        kmf = lifelines.KaplanMeierFitter()\n",
    "        kmf.fit(df[idx][t], event_observed=df[idx][event], label=cat)\n",
    "        kmf.plot(ax=ax, label=cat)\n",
    "        \n",
    "# plot by gender\n",
    "fig_gen, ax_gen = plt.subplots(figsize=(12,7))\n",
    "plot_categorical_survival(feature='sex', ax=ax_gen)\n",
    "ax_gen.set_title('Covid19 Survival by gender')\n",
    "ax_gen.set_xlabel('Covid19 Duration Time  (Days)')\n",
    "ax_gen.set_ylabel('Covid19 Survival Chance (%)')\n",
    "plt.show()"
   ]
  },
  {
   "cell_type": "code",
   "execution_count": 30,
   "metadata": {},
   "outputs": [
    {
     "data": {
      "text/html": [
       "<div>\n",
       "<style scoped>\n",
       "    .dataframe tbody tr th:only-of-type {\n",
       "        vertical-align: middle;\n",
       "    }\n",
       "\n",
       "    .dataframe tbody tr th {\n",
       "        vertical-align: top;\n",
       "    }\n",
       "\n",
       "    .dataframe thead th {\n",
       "        text-align: right;\n",
       "    }\n",
       "</style>\n",
       "<table border=\"1\" class=\"dataframe\">\n",
       "  <tbody>\n",
       "    <tr>\n",
       "      <th>t_0</th>\n",
       "      <td>-1</td>\n",
       "    </tr>\n",
       "    <tr>\n",
       "      <th>null_distribution</th>\n",
       "      <td>chi squared</td>\n",
       "    </tr>\n",
       "    <tr>\n",
       "      <th>degrees_of_freedom</th>\n",
       "      <td>1</td>\n",
       "    </tr>\n",
       "    <tr>\n",
       "      <th>alpha</th>\n",
       "      <td>0.99</td>\n",
       "    </tr>\n",
       "    <tr>\n",
       "      <th>test_name</th>\n",
       "      <td>logrank_test</td>\n",
       "    </tr>\n",
       "  </tbody>\n",
       "</table>\n",
       "</div><table border=\"1\" class=\"dataframe\">\n",
       "  <thead>\n",
       "    <tr style=\"text-align: right;\">\n",
       "      <th></th>\n",
       "      <th>test_statistic</th>\n",
       "      <th>p</th>\n",
       "      <th>-log2(p)</th>\n",
       "    </tr>\n",
       "  </thead>\n",
       "  <tbody>\n",
       "    <tr>\n",
       "      <th>0</th>\n",
       "      <td>60.98</td>\n",
       "      <td>&lt;0.005</td>\n",
       "      <td>47.30</td>\n",
       "    </tr>\n",
       "  </tbody>\n",
       "</table>"
      ],
      "text/latex": [
       "\\begin{tabular}{lrrr}\n",
       "\\toprule\n",
       "{} &  test\\_statistic &             p &   -log2(p) \\\\\n",
       "\\midrule\n",
       "0 &       60.983836 &  5.754534e-15 &  47.304222 \\\\\n",
       "\\bottomrule\n",
       "\\end{tabular}\n"
      ],
      "text/plain": [
       "<lifelines.StatisticalResult: logrank_test>\n",
       "               t_0 = -1\n",
       " null_distribution = chi squared\n",
       "degrees_of_freedom = 1\n",
       "             alpha = 0.99\n",
       "         test_name = logrank_test\n",
       "\n",
       "---\n",
       " test_statistic      p  -log2(p)\n",
       "          60.98 <0.005     47.30"
      ]
     },
     "metadata": {},
     "output_type": "display_data"
    }
   ],
   "source": [
    "female = (data[\"sex\"] == \"female\")\n",
    "T = data[\"Duration\"]\n",
    "E = data[\"outcome\"]\n",
    "kmf.fit(T[female], event_observed=E[female])\n",
    "\n",
    "from lifelines.statistics import logrank_test\n",
    "\n",
    "gender_results = logrank_test(T[female], T[~female], E[female], E[~female], alpha=.99)\n",
    "\n",
    "\n",
    "gender_results.print_summary()"
   ]
  },
  {
   "cell_type": "markdown",
   "metadata": {},
   "source": [
    "Female patients have larger survival probability than male. The survival probability for male also seems to decrease more gradually than that of female. The log-rank test result gives test-statistic of 60.98 and p-value below 0.005, which indicates that there is a statistically significant difference between the survival functions of two sex groups."
   ]
  },
  {
   "cell_type": "markdown",
   "metadata": {},
   "source": [
    "#### KM curve and log-rank test for Age Group"
   ]
  },
  {
   "cell_type": "code",
   "execution_count": 31,
   "metadata": {},
   "outputs": [
    {
     "data": {
      "image/png": "[encoded data removed]",
      "text/plain": [
       "<Figure size 864x504 with 1 Axes>"
      ]
     },
     "metadata": {
      "needs_background": "light"
     },
     "output_type": "display_data"
    }
   ],
   "source": [
    "# plot by age group\n",
    "fig_edl, ax_edl = plt.subplots(figsize=(12,7))\n",
    "plot_categorical_survival(feature='age group', ax=ax_edl)\n",
    "ax_edl.set_title('Covid19 Survival by age group')\n",
    "ax_edl.set_xlabel('Covid19 Duration Time  (Days)')\n",
    "ax_edl.set_ylabel('Covid19 Survival Chance (%)')\n",
    "plt.show()"
   ]
  },
  {
   "cell_type": "code",
   "execution_count": 32,
   "metadata": {},
   "outputs": [
    {
     "data": {
      "text/html": [
       "<div>\n",
       "<style scoped>\n",
       "    .dataframe tbody tr th:only-of-type {\n",
       "        vertical-align: middle;\n",
       "    }\n",
       "\n",
       "    .dataframe tbody tr th {\n",
       "        vertical-align: top;\n",
       "    }\n",
       "\n",
       "    .dataframe thead th {\n",
       "        text-align: right;\n",
       "    }\n",
       "</style>\n",
       "<table border=\"1\" class=\"dataframe\">\n",
       "  <tbody>\n",
       "    <tr>\n",
       "      <th>t_0</th>\n",
       "      <td>-1</td>\n",
       "    </tr>\n",
       "    <tr>\n",
       "      <th>null_distribution</th>\n",
       "      <td>chi squared</td>\n",
       "    </tr>\n",
       "    <tr>\n",
       "      <th>degrees_of_freedom</th>\n",
       "      <td>2</td>\n",
       "    </tr>\n",
       "    <tr>\n",
       "      <th>test_name</th>\n",
       "      <td>multivariate_logrank_test</td>\n",
       "    </tr>\n",
       "  </tbody>\n",
       "</table>\n",
       "</div><table border=\"1\" class=\"dataframe\">\n",
       "  <thead>\n",
       "    <tr style=\"text-align: right;\">\n",
       "      <th></th>\n",
       "      <th>test_statistic</th>\n",
       "      <th>p</th>\n",
       "      <th>-log2(p)</th>\n",
       "    </tr>\n",
       "  </thead>\n",
       "  <tbody>\n",
       "    <tr>\n",
       "      <th>0</th>\n",
       "      <td>708.62</td>\n",
       "      <td>&lt;0.005</td>\n",
       "      <td>511.16</td>\n",
       "    </tr>\n",
       "  </tbody>\n",
       "</table>"
      ],
      "text/latex": [
       "\\begin{tabular}{lrrr}\n",
       "\\toprule\n",
       "{} &  test\\_statistic &              p &   -log2(p) \\\\\n",
       "\\midrule\n",
       "0 &      708.624256 &  1.331061e-154 &  511.16435 \\\\\n",
       "\\bottomrule\n",
       "\\end{tabular}\n"
      ],
      "text/plain": [
       "<lifelines.StatisticalResult: multivariate_logrank_test>\n",
       "               t_0 = -1\n",
       " null_distribution = chi squared\n",
       "degrees_of_freedom = 2\n",
       "         test_name = multivariate_logrank_test\n",
       "\n",
       "---\n",
       " test_statistic      p  -log2(p)\n",
       "         708.62 <0.005    511.16"
      ]
     },
     "metadata": {},
     "output_type": "display_data"
    }
   ],
   "source": [
    "from lifelines.statistics import multivariate_logrank_test\n",
    "results = multivariate_logrank_test(data['Duration'], data['age group'], data['outcome'])\n",
    "results.print_summary()"
   ]
  },
  {
   "cell_type": "markdown",
   "metadata": {},
   "source": [
    "Old age group has the lowest survival chance, followed by middle age group and young age group has the highest. While the survival probability for young and middle age group are rather stable at from day 1 to day 275, that of old age group seems to decrease more quickly. The log-rank test result gives test-statistic of 708.62 and p-value below 0.005, which indicates that there is a statistically significant discrepancies among the survival functions of the 3 age groups."
   ]
  },
  {
   "cell_type": "markdown",
   "metadata": {},
   "source": [
    "### 3.1 Cox Regression"
   ]
  },
  {
   "cell_type": "markdown",
   "metadata": {},
   "source": [
    "#### Cox model with sex as the only covariate"
   ]
  },
  {
   "cell_type": "code",
   "execution_count": 33,
   "metadata": {},
   "outputs": [
    {
     "data": {
      "text/html": [
       "<div>\n",
       "<style scoped>\n",
       "    .dataframe tbody tr th:only-of-type {\n",
       "        vertical-align: middle;\n",
       "    }\n",
       "\n",
       "    .dataframe tbody tr th {\n",
       "        vertical-align: top;\n",
       "    }\n",
       "\n",
       "    .dataframe thead th {\n",
       "        text-align: right;\n",
       "    }\n",
       "</style>\n",
       "<table border=\"1\" class=\"dataframe\">\n",
       "  <thead>\n",
       "    <tr style=\"text-align: right;\">\n",
       "      <th></th>\n",
       "      <th>outcome</th>\n",
       "      <th>sex</th>\n",
       "      <th>Duration</th>\n",
       "    </tr>\n",
       "  </thead>\n",
       "  <tbody>\n",
       "    <tr>\n",
       "      <th>0</th>\n",
       "      <td>True</td>\n",
       "      <td>male</td>\n",
       "      <td>1.0</td>\n",
       "    </tr>\n",
       "    <tr>\n",
       "      <th>1</th>\n",
       "      <td>False</td>\n",
       "      <td>female</td>\n",
       "      <td>3.0</td>\n",
       "    </tr>\n",
       "    <tr>\n",
       "      <th>2</th>\n",
       "      <td>False</td>\n",
       "      <td>male</td>\n",
       "      <td>235.0</td>\n",
       "    </tr>\n",
       "    <tr>\n",
       "      <th>3</th>\n",
       "      <td>False</td>\n",
       "      <td>female</td>\n",
       "      <td>235.0</td>\n",
       "    </tr>\n",
       "    <tr>\n",
       "      <th>4</th>\n",
       "      <td>False</td>\n",
       "      <td>male</td>\n",
       "      <td>235.0</td>\n",
       "    </tr>\n",
       "  </tbody>\n",
       "</table>\n",
       "</div>"
      ],
      "text/plain": [
       "   outcome     sex  Duration\n",
       "0     True    male       1.0\n",
       "1    False  female       3.0\n",
       "2    False    male     235.0\n",
       "3    False  female     235.0\n",
       "4    False    male     235.0"
      ]
     },
     "execution_count": 33,
     "metadata": {},
     "output_type": "execute_result"
    }
   ],
   "source": [
    "task_i = ['outcome', 'sex','Duration']\n",
    "data2 = data[task_i]\n",
    "data2.head()"
   ]
  },
  {
   "cell_type": "code",
   "execution_count": 34,
   "metadata": {},
   "outputs": [
    {
     "data": {
      "text/html": [
       "<div>\n",
       "<style scoped>\n",
       "    .dataframe tbody tr th:only-of-type {\n",
       "        vertical-align: middle;\n",
       "    }\n",
       "\n",
       "    .dataframe tbody tr th {\n",
       "        vertical-align: top;\n",
       "    }\n",
       "\n",
       "    .dataframe thead th {\n",
       "        text-align: right;\n",
       "    }\n",
       "</style>\n",
       "<table border=\"1\" class=\"dataframe\">\n",
       "  <tbody>\n",
       "    <tr>\n",
       "      <th>model</th>\n",
       "      <td>lifelines.CoxPHFitter</td>\n",
       "    </tr>\n",
       "    <tr>\n",
       "      <th>duration col</th>\n",
       "      <td>'Duration'</td>\n",
       "    </tr>\n",
       "    <tr>\n",
       "      <th>event col</th>\n",
       "      <td>'outcome'</td>\n",
       "    </tr>\n",
       "    <tr>\n",
       "      <th>baseline estimation</th>\n",
       "      <td>breslow</td>\n",
       "    </tr>\n",
       "    <tr>\n",
       "      <th>number of observations</th>\n",
       "      <td>372035</td>\n",
       "    </tr>\n",
       "    <tr>\n",
       "      <th>number of events observed</th>\n",
       "      <td>853</td>\n",
       "    </tr>\n",
       "    <tr>\n",
       "      <th>partial log-likelihood</th>\n",
       "      <td>-10567.89</td>\n",
       "    </tr>\n",
       "    <tr>\n",
       "      <th>time fit was run</th>\n",
       "      <td>2022-05-29 00:12:52 UTC</td>\n",
       "    </tr>\n",
       "  </tbody>\n",
       "</table>\n",
       "</div><table border=\"1\" class=\"dataframe\">\n",
       "  <thead>\n",
       "    <tr style=\"text-align: right;\">\n",
       "      <th style=\"min-width: 12px;\"></th>\n",
       "      <th style=\"min-width: 12px;\">coef</th>\n",
       "      <th style=\"min-width: 12px;\">exp(coef)</th>\n",
       "      <th style=\"min-width: 12px;\">se(coef)</th>\n",
       "      <th style=\"min-width: 12px;\">coef lower 95%</th>\n",
       "      <th style=\"min-width: 12px;\">coef upper 95%</th>\n",
       "      <th style=\"min-width: 12px;\">exp(coef) lower 95%</th>\n",
       "      <th style=\"min-width: 12px;\">exp(coef) upper 95%</th>\n",
       "      <th style=\"min-width: 12px;\">cmp to</th>\n",
       "      <th style=\"min-width: 12px;\">z</th>\n",
       "      <th style=\"min-width: 12px;\">p</th>\n",
       "      <th style=\"min-width: 12px;\">-log2(p)</th>\n",
       "    </tr>\n",
       "  </thead>\n",
       "  <tbody>\n",
       "    <tr>\n",
       "      <th>sex</th>\n",
       "      <td>-0.37</td>\n",
       "      <td>0.69</td>\n",
       "      <td>0.07</td>\n",
       "      <td>-0.51</td>\n",
       "      <td>-0.23</td>\n",
       "      <td>0.60</td>\n",
       "      <td>0.79</td>\n",
       "      <td>0.00</td>\n",
       "      <td>-5.28</td>\n",
       "      <td>&lt;0.005</td>\n",
       "      <td>22.90</td>\n",
       "    </tr>\n",
       "  </tbody>\n",
       "</table><br><div>\n",
       "<style scoped>\n",
       "    .dataframe tbody tr th:only-of-type {\n",
       "        vertical-align: middle;\n",
       "    }\n",
       "\n",
       "    .dataframe tbody tr th {\n",
       "        vertical-align: top;\n",
       "    }\n",
       "\n",
       "    .dataframe thead th {\n",
       "        text-align: right;\n",
       "    }\n",
       "</style>\n",
       "<table border=\"1\" class=\"dataframe\">\n",
       "  <tbody>\n",
       "    <tr>\n",
       "      <th>Concordance</th>\n",
       "      <td>0.54</td>\n",
       "    </tr>\n",
       "    <tr>\n",
       "      <th>Partial AIC</th>\n",
       "      <td>21137.78</td>\n",
       "    </tr>\n",
       "    <tr>\n",
       "      <th>log-likelihood ratio test</th>\n",
       "      <td>28.54 on 1 df</td>\n",
       "    </tr>\n",
       "    <tr>\n",
       "      <th>-log2(p) of ll-ratio test</th>\n",
       "      <td>23.38</td>\n",
       "    </tr>\n",
       "  </tbody>\n",
       "</table>\n",
       "</div>"
      ],
      "text/latex": [
       "\\begin{tabular}{lrrrrrrrrrrr}\n",
       "\\toprule\n",
       "{} &  coef &  exp(coef) &  se(coef) &  coef lower 95\\% &  coef upper 95\\% &  exp(coef) lower 95\\% &  exp(coef) upper 95\\% &  cmp to &     z &    p &  -log2(p) \\\\\n",
       "covariate &       &            &           &                 &                 &                      &                      &         &       &      &           \\\\\n",
       "\\midrule\n",
       "sex       & -0.37 &       0.69 &      0.07 &           -0.51 &           -0.23 &                 0.60 &                 0.79 &    0.00 & -5.28 & 0.00 &     22.90 \\\\\n",
       "\\bottomrule\n",
       "\\end{tabular}\n"
      ],
      "text/plain": [
       "<lifelines.CoxPHFitter: fitted with 372035 total observations, 371182 right-censored observations>\n",
       "             duration col = 'Duration'\n",
       "                event col = 'outcome'\n",
       "      baseline estimation = breslow\n",
       "   number of observations = 372035\n",
       "number of events observed = 853\n",
       "   partial log-likelihood = -10567.89\n",
       "         time fit was run = 2022-05-29 00:12:52 UTC\n",
       "\n",
       "---\n",
       "            coef  exp(coef)   se(coef)   coef lower 95%   coef upper 95%  exp(coef) lower 95%  exp(coef) upper 95%\n",
       "covariate                                                                                                         \n",
       "sex        -0.37       0.69       0.07            -0.51            -0.23                 0.60                 0.79\n",
       "\n",
       "            cmp to     z      p   -log2(p)\n",
       "covariate                                 \n",
       "sex           0.00 -5.28 <0.005      22.90\n",
       "---\n",
       "Concordance = 0.54\n",
       "Partial AIC = 21137.78\n",
       "log-likelihood ratio test = 28.54 on 1 df\n",
       "-log2(p) of ll-ratio test = 23.38"
      ]
     },
     "metadata": {},
     "output_type": "display_data"
    }
   ],
   "source": [
    "#change the binary variables to True and False\n",
    "data2['sex'] = data2['sex'] == 'female'\n",
    "    \n",
    "# Building training and testing sets\n",
    "from sklearn.model_selection import train_test_split\n",
    "random.seed(10)\n",
    "\n",
    "data2_train,data2_test = train_test_split(data2,test_size=0.35)\n",
    "data2_cph = lifelines.CoxPHFitter()\n",
    "data2_cph.fit(data2_train, duration_col='Duration', event_col='outcome', show_progress=False)\n",
    "data2_cph.print_summary()"
   ]
  },
  {
   "cell_type": "code",
   "execution_count": 35,
   "metadata": {},
   "outputs": [
    {
     "data": {
      "image/png": "[encoded data removed]",
      "text/plain": [
       "<Figure size 864x504 with 1 Axes>"
      ]
     },
     "metadata": {
      "needs_background": "light"
     },
     "output_type": "display_data"
    }
   ],
   "source": [
    "fig_coef, ax_coef = plt.subplots(figsize=(12,7))\n",
    "ax_coef.set_title('Survival Regression: Coefficients and Confidence Intervals')\n",
    "data2_cph.plot(ax=ax_coef);"
   ]
  },
  {
   "cell_type": "code",
   "execution_count": 36,
   "metadata": {},
   "outputs": [
    {
     "data": {
      "text/plain": [
       "<AxesSubplot:>"
      ]
     },
     "execution_count": 36,
     "metadata": {},
     "output_type": "execute_result"
    },
    {
     "data": {
      "image/png": "[encoded data removed]",
      "text/plain": [
       "<Figure size 432x288 with 1 Axes>"
      ]
     },
     "metadata": {
      "needs_background": "light"
     },
     "output_type": "display_data"
    }
   ],
   "source": [
    "# check covariate group \n",
    "data2_cph.plot_partial_effects_on_outcome('sex', [False,True], cmap='coolwarm')"
   ]
  },
  {
   "cell_type": "markdown",
   "metadata": {},
   "source": [
    "Female data takes True value and male False. The coefficient takes a negative value, so female group has a higher chance of survival than male group. The relative risk for the female patients is exp{−0.38} = 0.69, that is, the male patients would have 1.4 (1/0.69) times more death risk than female patients."
   ]
  },
  {
   "cell_type": "markdown",
   "metadata": {},
   "source": [
    "#### Cox model with sex as a stratify variable and age groups as a covariate"
   ]
  },
  {
   "cell_type": "code",
   "execution_count": 37,
   "metadata": {},
   "outputs": [
    {
     "data": {
      "text/html": [
       "<div>\n",
       "<style scoped>\n",
       "    .dataframe tbody tr th:only-of-type {\n",
       "        vertical-align: middle;\n",
       "    }\n",
       "\n",
       "    .dataframe tbody tr th {\n",
       "        vertical-align: top;\n",
       "    }\n",
       "\n",
       "    .dataframe thead th {\n",
       "        text-align: right;\n",
       "    }\n",
       "</style>\n",
       "<table border=\"1\" class=\"dataframe\">\n",
       "  <thead>\n",
       "    <tr style=\"text-align: right;\">\n",
       "      <th></th>\n",
       "      <th>outcome</th>\n",
       "      <th>sex</th>\n",
       "      <th>Duration</th>\n",
       "      <th>age group_old</th>\n",
       "      <th>age group_young</th>\n",
       "    </tr>\n",
       "  </thead>\n",
       "  <tbody>\n",
       "    <tr>\n",
       "      <th>0</th>\n",
       "      <td>True</td>\n",
       "      <td>male</td>\n",
       "      <td>1.0</td>\n",
       "      <td>1</td>\n",
       "      <td>0</td>\n",
       "    </tr>\n",
       "    <tr>\n",
       "      <th>1</th>\n",
       "      <td>False</td>\n",
       "      <td>female</td>\n",
       "      <td>3.0</td>\n",
       "      <td>0</td>\n",
       "      <td>0</td>\n",
       "    </tr>\n",
       "    <tr>\n",
       "      <th>2</th>\n",
       "      <td>False</td>\n",
       "      <td>male</td>\n",
       "      <td>235.0</td>\n",
       "      <td>1</td>\n",
       "      <td>0</td>\n",
       "    </tr>\n",
       "    <tr>\n",
       "      <th>3</th>\n",
       "      <td>False</td>\n",
       "      <td>female</td>\n",
       "      <td>235.0</td>\n",
       "      <td>0</td>\n",
       "      <td>1</td>\n",
       "    </tr>\n",
       "    <tr>\n",
       "      <th>4</th>\n",
       "      <td>False</td>\n",
       "      <td>male</td>\n",
       "      <td>235.0</td>\n",
       "      <td>0</td>\n",
       "      <td>1</td>\n",
       "    </tr>\n",
       "  </tbody>\n",
       "</table>\n",
       "</div>"
      ],
      "text/plain": [
       "   outcome     sex  Duration  age group_old  age group_young\n",
       "0     True    male       1.0              1                0\n",
       "1    False  female       3.0              0                0\n",
       "2    False    male     235.0              1                0\n",
       "3    False  female     235.0              0                1\n",
       "4    False    male     235.0              0                1"
      ]
     },
     "execution_count": 37,
     "metadata": {},
     "output_type": "execute_result"
    }
   ],
   "source": [
    "task_j = ['age group', 'outcome', 'sex','Duration']\n",
    "data3 = data[task_j]\n",
    "\n",
    "# encode the categorical feature\n",
    "data3 = pd.get_dummies(data3, drop_first=True, columns=['age group'], prefix=['age group'])\n",
    "data3.head()"
   ]
  },
  {
   "cell_type": "code",
   "execution_count": 38,
   "metadata": {},
   "outputs": [
    {
     "data": {
      "text/html": [
       "<div>\n",
       "<style scoped>\n",
       "    .dataframe tbody tr th:only-of-type {\n",
       "        vertical-align: middle;\n",
       "    }\n",
       "\n",
       "    .dataframe tbody tr th {\n",
       "        vertical-align: top;\n",
       "    }\n",
       "\n",
       "    .dataframe thead th {\n",
       "        text-align: right;\n",
       "    }\n",
       "</style>\n",
       "<table border=\"1\" class=\"dataframe\">\n",
       "  <tbody>\n",
       "    <tr>\n",
       "      <th>model</th>\n",
       "      <td>lifelines.CoxPHFitter</td>\n",
       "    </tr>\n",
       "    <tr>\n",
       "      <th>duration col</th>\n",
       "      <td>'Duration'</td>\n",
       "    </tr>\n",
       "    <tr>\n",
       "      <th>event col</th>\n",
       "      <td>'outcome'</td>\n",
       "    </tr>\n",
       "    <tr>\n",
       "      <th>strata</th>\n",
       "      <td>[sex]</td>\n",
       "    </tr>\n",
       "    <tr>\n",
       "      <th>baseline estimation</th>\n",
       "      <td>breslow</td>\n",
       "    </tr>\n",
       "    <tr>\n",
       "      <th>number of observations</th>\n",
       "      <td>372035</td>\n",
       "    </tr>\n",
       "    <tr>\n",
       "      <th>number of events observed</th>\n",
       "      <td>848</td>\n",
       "    </tr>\n",
       "    <tr>\n",
       "      <th>partial log-likelihood</th>\n",
       "      <td>-9711.09</td>\n",
       "    </tr>\n",
       "    <tr>\n",
       "      <th>time fit was run</th>\n",
       "      <td>2022-05-29 00:16:00 UTC</td>\n",
       "    </tr>\n",
       "  </tbody>\n",
       "</table>\n",
       "</div><table border=\"1\" class=\"dataframe\">\n",
       "  <thead>\n",
       "    <tr style=\"text-align: right;\">\n",
       "      <th style=\"min-width: 12px;\"></th>\n",
       "      <th style=\"min-width: 12px;\">coef</th>\n",
       "      <th style=\"min-width: 12px;\">exp(coef)</th>\n",
       "      <th style=\"min-width: 12px;\">se(coef)</th>\n",
       "      <th style=\"min-width: 12px;\">coef lower 95%</th>\n",
       "      <th style=\"min-width: 12px;\">coef upper 95%</th>\n",
       "      <th style=\"min-width: 12px;\">exp(coef) lower 95%</th>\n",
       "      <th style=\"min-width: 12px;\">exp(coef) upper 95%</th>\n",
       "      <th style=\"min-width: 12px;\">cmp to</th>\n",
       "      <th style=\"min-width: 12px;\">z</th>\n",
       "      <th style=\"min-width: 12px;\">p</th>\n",
       "      <th style=\"min-width: 12px;\">-log2(p)</th>\n",
       "    </tr>\n",
       "  </thead>\n",
       "  <tbody>\n",
       "    <tr>\n",
       "      <th>age group_old</th>\n",
       "      <td>0.62</td>\n",
       "      <td>1.85</td>\n",
       "      <td>0.07</td>\n",
       "      <td>0.48</td>\n",
       "      <td>0.76</td>\n",
       "      <td>1.61</td>\n",
       "      <td>2.13</td>\n",
       "      <td>0.00</td>\n",
       "      <td>8.57</td>\n",
       "      <td>&lt;0.005</td>\n",
       "      <td>56.42</td>\n",
       "    </tr>\n",
       "    <tr>\n",
       "      <th>age group_young</th>\n",
       "      <td>-1.70</td>\n",
       "      <td>0.18</td>\n",
       "      <td>0.13</td>\n",
       "      <td>-1.95</td>\n",
       "      <td>-1.45</td>\n",
       "      <td>0.14</td>\n",
       "      <td>0.23</td>\n",
       "      <td>0.00</td>\n",
       "      <td>-13.31</td>\n",
       "      <td>&lt;0.005</td>\n",
       "      <td>131.81</td>\n",
       "    </tr>\n",
       "  </tbody>\n",
       "</table><br><div>\n",
       "<style scoped>\n",
       "    .dataframe tbody tr th:only-of-type {\n",
       "        vertical-align: middle;\n",
       "    }\n",
       "\n",
       "    .dataframe tbody tr th {\n",
       "        vertical-align: top;\n",
       "    }\n",
       "\n",
       "    .dataframe thead th {\n",
       "        text-align: right;\n",
       "    }\n",
       "</style>\n",
       "<table border=\"1\" class=\"dataframe\">\n",
       "  <tbody>\n",
       "    <tr>\n",
       "      <th>Concordance</th>\n",
       "      <td>0.70</td>\n",
       "    </tr>\n",
       "    <tr>\n",
       "      <th>Partial AIC</th>\n",
       "      <td>19426.19</td>\n",
       "    </tr>\n",
       "    <tr>\n",
       "      <th>log-likelihood ratio test</th>\n",
       "      <td>490.82 on 2 df</td>\n",
       "    </tr>\n",
       "    <tr>\n",
       "      <th>-log2(p) of ll-ratio test</th>\n",
       "      <td>354.05</td>\n",
       "    </tr>\n",
       "  </tbody>\n",
       "</table>\n",
       "</div>"
      ],
      "text/latex": [
       "\\begin{tabular}{lrrrrrrrrrrr}\n",
       "\\toprule\n",
       "{} &  coef &  exp(coef) &  se(coef) &  coef lower 95\\% &  coef upper 95\\% &  exp(coef) lower 95\\% &  exp(coef) upper 95\\% &  cmp to &      z &    p &  -log2(p) \\\\\n",
       "covariate       &       &            &           &                 &                 &                      &                      &         &        &      &           \\\\\n",
       "\\midrule\n",
       "age group\\_old   &  0.62 &       1.85 &      0.07 &            0.48 &            0.76 &                 1.61 &                 2.13 &    0.00 &   8.57 & 0.00 &     56.42 \\\\\n",
       "age group\\_young & -1.70 &       0.18 &      0.13 &           -1.95 &           -1.45 &                 0.14 &                 0.23 &    0.00 & -13.31 & 0.00 &    131.81 \\\\\n",
       "\\bottomrule\n",
       "\\end{tabular}\n"
      ],
      "text/plain": [
       "<lifelines.CoxPHFitter: fitted with 372035 total observations, 371187 right-censored observations>\n",
       "             duration col = 'Duration'\n",
       "                event col = 'outcome'\n",
       "                   strata = ['sex']\n",
       "      baseline estimation = breslow\n",
       "   number of observations = 372035\n",
       "number of events observed = 848\n",
       "   partial log-likelihood = -9711.09\n",
       "         time fit was run = 2022-05-29 00:16:00 UTC\n",
       "\n",
       "---\n",
       "                  coef  exp(coef)   se(coef)   coef lower 95%   coef upper 95%  exp(coef) lower 95%  exp(coef) upper 95%\n",
       "covariate                                                                                                               \n",
       "age group_old     0.62       1.85       0.07             0.48             0.76                 1.61                 2.13\n",
       "age group_young  -1.70       0.18       0.13            -1.95            -1.45                 0.14                 0.23\n",
       "\n",
       "                  cmp to      z      p   -log2(p)\n",
       "covariate                                        \n",
       "age group_old       0.00   8.57 <0.005      56.42\n",
       "age group_young     0.00 -13.31 <0.005     131.81\n",
       "---\n",
       "Concordance = 0.70\n",
       "Partial AIC = 19426.19\n",
       "log-likelihood ratio test = 490.82 on 2 df\n",
       "-log2(p) of ll-ratio test = 354.05"
      ]
     },
     "metadata": {},
     "output_type": "display_data"
    }
   ],
   "source": [
    "from lifelines.datasets import load_rossi\n",
    "from lifelines import CoxPHFitter\n",
    "rossi = load_rossi()\n",
    "\n",
    "data3_train,data3_test = train_test_split(data3,test_size=0.35)\n",
    "data3_cph = CoxPHFitter()\n",
    "data3_cph.fit(data3_train, 'Duration', event_col='outcome', strata=['sex'])\n",
    "data3_cph.print_summary()"
   ]
  },
  {
   "cell_type": "code",
   "execution_count": 39,
   "metadata": {},
   "outputs": [
    {
     "data": {
      "image/png": "[encoded data removed]",
      "text/plain": [
       "<Figure size 864x504 with 1 Axes>"
      ]
     },
     "metadata": {
      "needs_background": "light"
     },
     "output_type": "display_data"
    }
   ],
   "source": [
    "# plotting coefficients\n",
    "fig_coef, ax_coef = plt.subplots(figsize=(12,7))\n",
    "ax_coef.set_title('Survival Regression: Coefficients and Confidence Intervals')\n",
    "data3_cph.plot(ax=ax_coef);"
   ]
  },
  {
   "cell_type": "code",
   "execution_count": 40,
   "metadata": {},
   "outputs": [
    {
     "data": {
      "text/plain": [
       "[<AxesSubplot:>, <AxesSubplot:>]"
      ]
     },
     "execution_count": 40,
     "metadata": {},
     "output_type": "execute_result"
    },
    {
     "data": {
      "image/png": "[encoded data removed]",
      "text/plain": [
       "<Figure size 432x288 with 1 Axes>"
      ]
     },
     "metadata": {
      "needs_background": "light"
     },
     "output_type": "display_data"
    },
    {
     "data": {
      "image/png": "[encoded data removed]",
      "text/plain": [
       "<Figure size 432x288 with 1 Axes>"
      ]
     },
     "metadata": {
      "needs_background": "light"
     },
     "output_type": "display_data"
    }
   ],
   "source": [
    "# check multiple covariates\n",
    "data3_cph.plot_partial_effects_on_outcome(['age group_young','age group_old'], [[False,True],[True,False],[False,False],[True,True]], cmap='coolwarm')"
   ]
  },
  {
   "cell_type": "markdown",
   "metadata": {},
   "source": [
    "We can observe that for both male and female groups, young age group (age group_young=True, age group_old=False) has the\n",
    "highest chance of survival, old age group (age group_young=False, age group_old=True) has the lowest chance of survival, and middle age group (age group_young=False, age group_old=True) has higher chance of survival than old age group and lower chance than young age group. The difference in 3 survival functions is statistically significant (p-value < 0.005). The relative risk for old patients is exp{0.75} = 2.12, that is, old patients would have 2.12 times more death risk than other patients. On the contrary, the relative risk for young patients is exp{-1.63} = 0.20, indicating that other patients would have 5 (1/0.2) times more death risk than young patients."
   ]
  }
 ],
 "metadata": {
  "kernelspec": {
   "display_name": "Python 3",
   "language": "python",
   "name": "python3"
  },
  "language_info": {
   "codemirror_mode": {
    "name": "ipython",
    "version": 3
   },
   "file_extension": ".py",
   "mimetype": "text/x-python",
   "name": "python",
   "nbconvert_exporter": "python",
   "pygments_lexer": "ipython3",
   "version": "3.8.5"
  }
 },
 "nbformat": 4,
 "nbformat_minor": 4
}
